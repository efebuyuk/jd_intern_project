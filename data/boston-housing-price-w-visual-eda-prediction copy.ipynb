{
 "cells": [
  {
   "cell_type": "markdown",
   "id": "07d7db5c",
   "metadata": {
    "papermill": {
     "duration": 0.030442,
     "end_time": "2021-07-27T21:35:17.369111",
     "exception": false,
     "start_time": "2021-07-27T21:35:17.338669",
     "status": "completed"
    },
    "tags": []
   },
   "source": [
    "## Linear Regression\n",
    "For this prediction, we will try out the following regression algorithm\n",
    "\n",
    "1. Linear Regression\n",
    "2. Polynomial Regression\n",
    "3. Random Forest Regression\n",
    "4. Support Vector Machine\n",
    "\n",
    "First part of notebook deals with EDA \n",
    "<br> Second part of notebook deals with preprocessing/training </br> "
   ]
  },
  {
   "cell_type": "markdown",
   "id": "8f3652e2",
   "metadata": {
    "papermill": {
     "duration": 0.029099,
     "end_time": "2021-07-27T21:35:17.428183",
     "exception": false,
     "start_time": "2021-07-27T21:35:17.399084",
     "status": "completed"
    },
    "tags": []
   },
   "source": [
    "## ****Data****\n",
    "* CRIM: capita crime rate by town\n",
    "* ZN: proportion of residential land zoned for lots over 25,000 sq.ft.\n",
    "* INDUS: proportion of non-retail business acres per town \n",
    "* CHAS: Charles River dummy variable (1 if tract bounds river; 0 otherwise) \n",
    "* NOX: nitric oxides concentration (parts per 10 million) [parts/10M]\n",
    "* RM: average number of rooms per dwelling \n",
    "* AGE: proportion of owner-occupied units built prior to 1940\n",
    "* DIS: weighted distances to five Boston employment centres\n",
    "*  RAD: index of accessibility to radial highways \n",
    "*  TAX: full-value property-tax rate per $10,000 [$/10k] \n",
    "*  PTRATIO: pupil-teacher ratio by town \n",
    "*  B: The result of the equation B=1000(Bk - 0.63)^2 where Bk is the proportion of blacks by town \n",
    "*  LSTAT: % lower status of the population \n",
    "* MEDV: Median value of owner-occupied homes in $1000's [k$]"
   ]
  },
  {
   "cell_type": "markdown",
   "id": "3f5baed8",
   "metadata": {
    "papermill": {
     "duration": 0.028888,
     "end_time": "2021-07-27T21:35:17.486289",
     "exception": false,
     "start_time": "2021-07-27T21:35:17.457401",
     "status": "completed"
    },
    "tags": []
   },
   "source": [
    "## Import Library"
   ]
  },
  {
   "cell_type": "code",
   "execution_count": 1,
   "id": "2e1bc40d",
   "metadata": {
    "execution": {
     "iopub.execute_input": "2021-07-27T21:35:17.560072Z",
     "iopub.status.busy": "2021-07-27T21:35:17.559016Z",
     "iopub.status.idle": "2021-07-27T21:35:18.592347Z",
     "shell.execute_reply": "2021-07-27T21:35:18.591474Z",
     "shell.execute_reply.started": "2021-07-27T21:34:19.985705Z"
    },
    "papermill": {
     "duration": 1.076883,
     "end_time": "2021-07-27T21:35:18.592576",
     "exception": false,
     "start_time": "2021-07-27T21:35:17.515693",
     "status": "completed"
    },
    "tags": []
   },
   "outputs": [
    {
     "name": "stdout",
     "output_type": "stream",
     "text": [
      "(506, 14)\n",
      "m: Number of training examples:  506\n",
      "n: Number of independent Variables:  14\n",
      "Target variable: MEDV\n"
     ]
    }
   ],
   "source": [
    "import matplotlib.pyplot as plt\n",
    "import seaborn as sns\n",
    "import numpy as np \n",
    "import pandas as pd \n",
    "\n",
    "#Read in data\n",
    "df = pd.read_csv('/kaggle/input/the-boston-houseprice-data/boston.csv')\n",
    "print(df.shape)\n",
    "print('m: Number of training examples: ', df.shape[0])\n",
    "print('n: Number of independent Variables: ', df.shape[1])\n",
    "print('Target variable: MEDV')\n"
   ]
  },
  {
   "cell_type": "code",
   "execution_count": 2,
   "id": "0b19d566",
   "metadata": {
    "execution": {
     "iopub.execute_input": "2021-07-27T21:35:18.664970Z",
     "iopub.status.busy": "2021-07-27T21:35:18.664285Z",
     "iopub.status.idle": "2021-07-27T21:35:18.693962Z",
     "shell.execute_reply": "2021-07-27T21:35:18.694468Z",
     "shell.execute_reply.started": "2021-07-27T21:34:20.007733Z"
    },
    "papermill": {
     "duration": 0.07123,
     "end_time": "2021-07-27T21:35:18.694647",
     "exception": false,
     "start_time": "2021-07-27T21:35:18.623417",
     "status": "completed"
    },
    "tags": []
   },
   "outputs": [
    {
     "data": {
      "text/html": [
       "<div>\n",
       "<style scoped>\n",
       "    .dataframe tbody tr th:only-of-type {\n",
       "        vertical-align: middle;\n",
       "    }\n",
       "\n",
       "    .dataframe tbody tr th {\n",
       "        vertical-align: top;\n",
       "    }\n",
       "\n",
       "    .dataframe thead th {\n",
       "        text-align: right;\n",
       "    }\n",
       "</style>\n",
       "<table border=\"1\" class=\"dataframe\">\n",
       "  <thead>\n",
       "    <tr style=\"text-align: right;\">\n",
       "      <th></th>\n",
       "      <th>CRIM</th>\n",
       "      <th>ZN</th>\n",
       "      <th>INDUS</th>\n",
       "      <th>CHAS</th>\n",
       "      <th>NOX</th>\n",
       "      <th>RM</th>\n",
       "      <th>AGE</th>\n",
       "      <th>DIS</th>\n",
       "      <th>RAD</th>\n",
       "      <th>TAX</th>\n",
       "      <th>PTRATIO</th>\n",
       "      <th>B</th>\n",
       "      <th>LSTAT</th>\n",
       "      <th>MEDV</th>\n",
       "    </tr>\n",
       "  </thead>\n",
       "  <tbody>\n",
       "    <tr>\n",
       "      <th>0</th>\n",
       "      <td>0.00632</td>\n",
       "      <td>18.0</td>\n",
       "      <td>2.31</td>\n",
       "      <td>0</td>\n",
       "      <td>0.538</td>\n",
       "      <td>6.575</td>\n",
       "      <td>65.2</td>\n",
       "      <td>4.0900</td>\n",
       "      <td>1</td>\n",
       "      <td>296.0</td>\n",
       "      <td>15.3</td>\n",
       "      <td>396.90</td>\n",
       "      <td>4.98</td>\n",
       "      <td>24.0</td>\n",
       "    </tr>\n",
       "    <tr>\n",
       "      <th>1</th>\n",
       "      <td>0.02731</td>\n",
       "      <td>0.0</td>\n",
       "      <td>7.07</td>\n",
       "      <td>0</td>\n",
       "      <td>0.469</td>\n",
       "      <td>6.421</td>\n",
       "      <td>78.9</td>\n",
       "      <td>4.9671</td>\n",
       "      <td>2</td>\n",
       "      <td>242.0</td>\n",
       "      <td>17.8</td>\n",
       "      <td>396.90</td>\n",
       "      <td>9.14</td>\n",
       "      <td>21.6</td>\n",
       "    </tr>\n",
       "    <tr>\n",
       "      <th>2</th>\n",
       "      <td>0.02729</td>\n",
       "      <td>0.0</td>\n",
       "      <td>7.07</td>\n",
       "      <td>0</td>\n",
       "      <td>0.469</td>\n",
       "      <td>7.185</td>\n",
       "      <td>61.1</td>\n",
       "      <td>4.9671</td>\n",
       "      <td>2</td>\n",
       "      <td>242.0</td>\n",
       "      <td>17.8</td>\n",
       "      <td>392.83</td>\n",
       "      <td>4.03</td>\n",
       "      <td>34.7</td>\n",
       "    </tr>\n",
       "    <tr>\n",
       "      <th>3</th>\n",
       "      <td>0.03237</td>\n",
       "      <td>0.0</td>\n",
       "      <td>2.18</td>\n",
       "      <td>0</td>\n",
       "      <td>0.458</td>\n",
       "      <td>6.998</td>\n",
       "      <td>45.8</td>\n",
       "      <td>6.0622</td>\n",
       "      <td>3</td>\n",
       "      <td>222.0</td>\n",
       "      <td>18.7</td>\n",
       "      <td>394.63</td>\n",
       "      <td>2.94</td>\n",
       "      <td>33.4</td>\n",
       "    </tr>\n",
       "    <tr>\n",
       "      <th>4</th>\n",
       "      <td>0.06905</td>\n",
       "      <td>0.0</td>\n",
       "      <td>2.18</td>\n",
       "      <td>0</td>\n",
       "      <td>0.458</td>\n",
       "      <td>7.147</td>\n",
       "      <td>54.2</td>\n",
       "      <td>6.0622</td>\n",
       "      <td>3</td>\n",
       "      <td>222.0</td>\n",
       "      <td>18.7</td>\n",
       "      <td>396.90</td>\n",
       "      <td>5.33</td>\n",
       "      <td>36.2</td>\n",
       "    </tr>\n",
       "  </tbody>\n",
       "</table>\n",
       "</div>"
      ],
      "text/plain": [
       "      CRIM    ZN  INDUS  CHAS    NOX     RM   AGE     DIS  RAD    TAX  \\\n",
       "0  0.00632  18.0   2.31     0  0.538  6.575  65.2  4.0900    1  296.0   \n",
       "1  0.02731   0.0   7.07     0  0.469  6.421  78.9  4.9671    2  242.0   \n",
       "2  0.02729   0.0   7.07     0  0.469  7.185  61.1  4.9671    2  242.0   \n",
       "3  0.03237   0.0   2.18     0  0.458  6.998  45.8  6.0622    3  222.0   \n",
       "4  0.06905   0.0   2.18     0  0.458  7.147  54.2  6.0622    3  222.0   \n",
       "\n",
       "   PTRATIO       B  LSTAT  MEDV  \n",
       "0     15.3  396.90   4.98  24.0  \n",
       "1     17.8  396.90   9.14  21.6  \n",
       "2     17.8  392.83   4.03  34.7  \n",
       "3     18.7  394.63   2.94  33.4  \n",
       "4     18.7  396.90   5.33  36.2  "
      ]
     },
     "execution_count": 2,
     "metadata": {},
     "output_type": "execute_result"
    }
   ],
   "source": [
    "df.head()"
   ]
  },
  {
   "cell_type": "code",
   "execution_count": null,
   "id": "23e57b05",
   "metadata": {
    "papermill": {
     "duration": 0.03008,
     "end_time": "2021-07-27T21:35:18.755946",
     "exception": false,
     "start_time": "2021-07-27T21:35:18.725866",
     "status": "completed"
    },
    "tags": []
   },
   "outputs": [],
   "source": []
  },
  {
   "cell_type": "markdown",
   "id": "9c4d3e46",
   "metadata": {
    "papermill": {
     "duration": 0.030554,
     "end_time": "2021-07-27T21:35:18.817048",
     "exception": false,
     "start_time": "2021-07-27T21:35:18.786494",
     "status": "completed"
    },
    "tags": []
   },
   "source": [
    "### Multi-variate Linear Regression and Matrix dimension\n",
    " h(theta) = regression line to predict future values\n",
    " <br> theta = parameters </br>\n",
    " <br> </br>\n",
    "<br> $$\\mathbf{ h_\\theta(x_{i}) = \\theta_0+\\theta_1 CRIM + \\theta_2 ZN + \\theta_3 INDUS + \\theta_4 CHAS + \\theta_5 NOX + \\theta_6 RM + ... }$$ </br>\n",
    "\n",
    "<br> $$\\mathbf{X} = \\left( \\begin{smallmatrix} x_{11} & x_{12} &.&.&.&.& x_{1n}\\\\\n",
    "                                x_{21} & x_{22} &.&.&.&.& x_{2n}\\\\\n",
    "                                x_{31} & x_{32} &.&.&.&.& x_{3n}\\\\\n",
    "                                .&.&.&. &.&.&.& \\\\\n",
    "                                .&.&.&. &.&.&.& \\\\\n",
    "                                x_{m1} & x_{m2} &.&.&.&.&. x_{mn}\\\\\n",
    "                                \\end{smallmatrix} \\right)_{(m,n)}$$ </br>\n",
    "                                \n",
    "$$\\theta = \\left (\\begin{matrix} \\theta_0 \\\\ \\theta_1 \\\\ .\\\\.\\\\ \\theta_j\\\\.\\\\.\\\\ \\theta_n \\end {matrix}\\right)_{(n+1,1)} \n",
    "\\mathbf{ y } = \\left (\\begin{matrix} y_1\\\\ y_2\\\\. \\\\. \\\\ y_i \\\\. \\\\. \\\\ y_m \\end{matrix} \\right)_{(m,1)}$$\n"
   ]
  },
  {
   "cell_type": "markdown",
   "id": "cdf76629",
   "metadata": {
    "papermill": {
     "duration": 0.030119,
     "end_time": "2021-07-27T21:35:18.877491",
     "exception": false,
     "start_time": "2021-07-27T21:35:18.847372",
     "status": "completed"
    },
    "tags": []
   },
   "source": [
    "#### Vectorized Form of hypothesis function\n",
    "-> Vectorized implementation makes our code run faster \n",
    "$$\\mathbf{ h_\\theta{(x)} = X\\theta}$$."
   ]
  },
  {
   "cell_type": "markdown",
   "id": "c42e6b49",
   "metadata": {
    "papermill": {
     "duration": 0.030869,
     "end_time": "2021-07-27T21:35:18.938751",
     "exception": false,
     "start_time": "2021-07-27T21:35:18.907882",
     "status": "completed"
    },
    "tags": []
   },
   "source": [
    "# Explore Data Analysis"
   ]
  },
  {
   "cell_type": "code",
   "execution_count": 3,
   "id": "5378c8aa",
   "metadata": {
    "execution": {
     "iopub.execute_input": "2021-07-27T21:35:19.006462Z",
     "iopub.status.busy": "2021-07-27T21:35:19.005715Z",
     "iopub.status.idle": "2021-07-27T21:35:19.479204Z",
     "shell.execute_reply": "2021-07-27T21:35:19.478646Z",
     "shell.execute_reply.started": "2021-07-27T21:34:20.040825Z"
    },
    "papermill": {
     "duration": 0.510027,
     "end_time": "2021-07-27T21:35:19.479341",
     "exception": false,
     "start_time": "2021-07-27T21:35:18.969314",
     "status": "completed"
    },
    "tags": []
   },
   "outputs": [
    {
     "name": "stderr",
     "output_type": "stream",
     "text": [
      "/opt/conda/lib/python3.7/site-packages/seaborn/distributions.py:2557: FutureWarning: `distplot` is a deprecated function and will be removed in a future version. Please adapt your code to use either `displot` (a figure-level function with similar flexibility) or `histplot` (an axes-level function for histograms).\n",
      "  warnings.warn(msg, FutureWarning)\n"
     ]
    },
    {
     "data": {
      "text/plain": [
       "<AxesSubplot:xlabel='MEDV', ylabel='Density'>"
      ]
     },
     "execution_count": 3,
     "metadata": {},
     "output_type": "execute_result"
    },
    {
     "data": {
      "image/png": "[encoded data removed]",
      "text/plain": [
       "<Figure size 432x288 with 1 Axes>"
      ]
     },
     "metadata": {
      "needs_background": "light"
     },
     "output_type": "display_data"
    }
   ],
   "source": [
    "sns.distplot(df['MEDV'])"
   ]
  },
  {
   "cell_type": "markdown",
   "id": "5751edda",
   "metadata": {
    "papermill": {
     "duration": 0.031839,
     "end_time": "2021-07-27T21:35:19.543723",
     "exception": false,
     "start_time": "2021-07-27T21:35:19.511884",
     "status": "completed"
    },
    "tags": []
   },
   "source": [
    "## Question 1: Does price increases as CRIME rate decreases ?"
   ]
  },
  {
   "cell_type": "code",
   "execution_count": 4,
   "id": "07707f3a",
   "metadata": {
    "execution": {
     "iopub.execute_input": "2021-07-27T21:35:19.613245Z",
     "iopub.status.busy": "2021-07-27T21:35:19.612586Z",
     "iopub.status.idle": "2021-07-27T21:35:20.122822Z",
     "shell.execute_reply": "2021-07-27T21:35:20.123390Z",
     "shell.execute_reply.started": "2021-07-27T21:34:20.313397Z"
    },
    "papermill": {
     "duration": 0.547759,
     "end_time": "2021-07-27T21:35:20.123593",
     "exception": false,
     "start_time": "2021-07-27T21:35:19.575834",
     "status": "completed"
    },
    "tags": []
   },
   "outputs": [
    {
     "data": {
      "text/plain": [
       "Text(0.5, 1.0, 'Crime rate vs owner-home value')"
      ]
     },
     "execution_count": 4,
     "metadata": {},
     "output_type": "execute_result"
    },
    {
     "data": {
      "image/png": "[encoded data removed]",
      "text/plain": [
       "<Figure size 864x432 with 1 Axes>"
      ]
     },
     "metadata": {
      "needs_background": "light"
     },
     "output_type": "display_data"
    }
   ],
   "source": [
    "\n",
    "sns.lmplot(x='CRIM',y='MEDV',data=df,aspect=2,height=6)\n",
    "plt.xlabel('Crime rate')\n",
    "plt.ylabel('Median value of owner-occupied home')\n",
    "plt.title('Crime rate vs owner-home value')"
   ]
  },
  {
   "cell_type": "markdown",
   "id": "bea5174c",
   "metadata": {
    "papermill": {
     "duration": 0.033361,
     "end_time": "2021-07-27T21:35:20.191194",
     "exception": false,
     "start_time": "2021-07-27T21:35:20.157833",
     "status": "completed"
    },
    "tags": []
   },
   "source": [
    "It seems like as crime rate goes to nearly 0, price of home increases.\n",
    "<br> Safety of neighborhood increases price of owned-home. </br>"
   ]
  },
  {
   "cell_type": "markdown",
   "id": "120d7db5",
   "metadata": {
    "papermill": {
     "duration": 0.033265,
     "end_time": "2021-07-27T21:35:20.258238",
     "exception": false,
     "start_time": "2021-07-27T21:35:20.224973",
     "status": "completed"
    },
    "tags": []
   },
   "source": [
    "## Question 2: Does NOX has effect on price of home?"
   ]
  },
  {
   "cell_type": "code",
   "execution_count": 5,
   "id": "e3f39197",
   "metadata": {
    "execution": {
     "iopub.execute_input": "2021-07-27T21:35:20.328938Z",
     "iopub.status.busy": "2021-07-27T21:35:20.328300Z",
     "iopub.status.idle": "2021-07-27T21:35:20.751733Z",
     "shell.execute_reply": "2021-07-27T21:35:20.750872Z",
     "shell.execute_reply.started": "2021-07-27T21:34:20.829784Z"
    },
    "papermill": {
     "duration": 0.459744,
     "end_time": "2021-07-27T21:35:20.751877",
     "exception": false,
     "start_time": "2021-07-27T21:35:20.292133",
     "status": "completed"
    },
    "tags": []
   },
   "outputs": [
    {
     "data": {
      "text/plain": [
       "<seaborn.axisgrid.FacetGrid at 0x7f1fcbb86f90>"
      ]
     },
     "execution_count": 5,
     "metadata": {},
     "output_type": "execute_result"
    },
    {
     "data": {
      "image/png": "[encoded data removed]",
      "text/plain": [
       "<Figure size 720x360 with 1 Axes>"
      ]
     },
     "metadata": {
      "needs_background": "light"
     },
     "output_type": "display_data"
    }
   ],
   "source": [
    "sns.lmplot(x='NOX', y='MEDV', data=df, aspect=2)"
   ]
  },
  {
   "cell_type": "markdown",
   "id": "3633072a",
   "metadata": {
    "papermill": {
     "duration": 0.035758,
     "end_time": "2021-07-27T21:35:20.823626",
     "exception": false,
     "start_time": "2021-07-27T21:35:20.787868",
     "status": "completed"
    },
    "tags": []
   },
   "source": [
    "As Nitric oxide concentration increases, prices of home deceases.\n",
    "<br> Since excessive nitric oxide is harmful to human body, it is unlikely to see people to move in a home with nearby high NOX. Therefore, price of home decreases.</br>"
   ]
  },
  {
   "cell_type": "markdown",
   "id": "88dfc766",
   "metadata": {
    "papermill": {
     "duration": 0.035547,
     "end_time": "2021-07-27T21:35:20.894947",
     "exception": false,
     "start_time": "2021-07-27T21:35:20.859400",
     "status": "completed"
    },
    "tags": []
   },
   "source": [
    "# Training Linear Regression Model\n",
    "First, we will need to split our data into X and Y\n",
    "<br> X is a matrix containing all columns(features) except 'MEDV' </br>\n",
    "<br> Y is a column vector containing only 'MEDV' </br>\n"
   ]
  },
  {
   "cell_type": "code",
   "execution_count": 6,
   "id": "eae7a152",
   "metadata": {
    "execution": {
     "iopub.execute_input": "2021-07-27T21:35:20.972706Z",
     "iopub.status.busy": "2021-07-27T21:35:20.971998Z",
     "iopub.status.idle": "2021-07-27T21:35:20.973398Z",
     "shell.execute_reply": "2021-07-27T21:35:20.973998Z",
     "shell.execute_reply.started": "2021-07-27T21:34:21.259298Z"
    },
    "papermill": {
     "duration": 0.043585,
     "end_time": "2021-07-27T21:35:20.974167",
     "exception": false,
     "start_time": "2021-07-27T21:35:20.930582",
     "status": "completed"
    },
    "tags": []
   },
   "outputs": [],
   "source": [
    "X = df.drop('MEDV', axis=1)\n",
    "y = df['MEDV']"
   ]
  },
  {
   "cell_type": "markdown",
   "id": "78e9812e",
   "metadata": {
    "papermill": {
     "duration": 0.035617,
     "end_time": "2021-07-27T21:35:21.045844",
     "exception": false,
     "start_time": "2021-07-27T21:35:21.010227",
     "status": "completed"
    },
    "tags": []
   },
   "source": [
    "## Train test split\n",
    "We will split our data into test set and training set."
   ]
  },
  {
   "cell_type": "code",
   "execution_count": 7,
   "id": "525d39b8",
   "metadata": {
    "execution": {
     "iopub.execute_input": "2021-07-27T21:35:21.121086Z",
     "iopub.status.busy": "2021-07-27T21:35:21.120404Z",
     "iopub.status.idle": "2021-07-27T21:35:21.309987Z",
     "shell.execute_reply": "2021-07-27T21:35:21.309285Z",
     "shell.execute_reply.started": "2021-07-27T21:34:21.267943Z"
    },
    "papermill": {
     "duration": 0.228708,
     "end_time": "2021-07-27T21:35:21.310139",
     "exception": false,
     "start_time": "2021-07-27T21:35:21.081431",
     "status": "completed"
    },
    "tags": []
   },
   "outputs": [],
   "source": [
    "from sklearn.model_selection import train_test_split\n",
    "\n",
    "X_train, X_test, y_train, y_test = train_test_split(X, y, test_size=0.3, random_state=42)"
   ]
  },
  {
   "cell_type": "code",
   "execution_count": 8,
   "id": "474930ef",
   "metadata": {
    "execution": {
     "iopub.execute_input": "2021-07-27T21:35:21.385640Z",
     "iopub.status.busy": "2021-07-27T21:35:21.384961Z",
     "iopub.status.idle": "2021-07-27T21:35:21.394178Z",
     "shell.execute_reply": "2021-07-27T21:35:21.393631Z",
     "shell.execute_reply.started": "2021-07-27T21:34:21.283947Z"
    },
    "papermill": {
     "duration": 0.047846,
     "end_time": "2021-07-27T21:35:21.394331",
     "exception": false,
     "start_time": "2021-07-27T21:35:21.346485",
     "status": "completed"
    },
    "tags": []
   },
   "outputs": [],
   "source": [
    "from sklearn import metrics\n",
    "from sklearn.model_selection import cross_val_score\n",
    "\n",
    "\n",
    "def cross_val(model):\n",
    "    pred = cross_val_score(model, X, y, cv=10)\n",
    "    return pred.mean()\n",
    "\n",
    "def print_evaluate(true, predicted):  \n",
    "    mae = metrics.mean_absolute_error(true, predicted)\n",
    "    mse = metrics.mean_squared_error(true, predicted)\n",
    "    rmse = np.sqrt(metrics.mean_squared_error(true, predicted))\n",
    "    r2_square = metrics.r2_score(true, predicted)\n",
    "    print('MAE:', mae)\n",
    "    print('MSE:', mse)\n",
    "    print('RMSE:', rmse)\n",
    "    print('R2 Square', r2_square)\n",
    "    print('__________________________________')\n",
    "    \n",
    "def evaluate(true, predicted):\n",
    "    mae = metrics.mean_absolute_error(true, predicted)\n",
    "    mse = metrics.mean_squared_error(true, predicted)\n",
    "    rmse = np.sqrt(metrics.mean_squared_error(true, predicted))\n",
    "    r2_square = metrics.r2_score(true, predicted)\n",
    "    return mae, mse, rmse, r2_square"
   ]
  },
  {
   "cell_type": "markdown",
   "id": "ed9a8957",
   "metadata": {
    "papermill": {
     "duration": 0.035713,
     "end_time": "2021-07-27T21:35:21.467269",
     "exception": false,
     "start_time": "2021-07-27T21:35:21.431556",
     "status": "completed"
    },
    "tags": []
   },
   "source": [
    "# Preparing data for linear regression\n",
    "* ****Linear Assumption****. Linear regression assumes that the relationship between your input and output is linear. It does not support anything else. This may be obvious, but it is good to remember when you have a lot of attributes. You may need to transform data to make the relationship linear (e.g. log transform for an exponential relationship).\n",
    "* ****Remove Noise**** Linear regression assumes that your input and output variables are not noisy. Consider using data cleaning operations that let you better expose and clarify the signal in your data. This is most important for the output variable and you want to remove outliers in the output variable (y) if possible.\n",
    "* ****Remove Collinearity****. Linear regression will over-fit your data when you have highly correlated input variables. Consider calculating pairwise correlations for your input data and removing the most correlated.\n",
    "* ****Gaussian Distributions****. Linear regression will make more reliable predictions if your input and output variables have a Gaussian distribution. You may get some benefit using transforms (e.g. log or BoxCox) on you variables to make their distribution more Gaussian looking.\n",
    "* ****Rescale Inputs:**** Linear regression will often make more reliable predictions if you rescale input variables using standardization or normalization."
   ]
  },
  {
   "cell_type": "code",
   "execution_count": 9,
   "id": "879c1341",
   "metadata": {
    "execution": {
     "iopub.execute_input": "2021-07-27T21:35:21.544786Z",
     "iopub.status.busy": "2021-07-27T21:35:21.544102Z",
     "iopub.status.idle": "2021-07-27T21:35:21.557332Z",
     "shell.execute_reply": "2021-07-27T21:35:21.556771Z",
     "shell.execute_reply.started": "2021-07-27T21:34:21.445378Z"
    },
    "papermill": {
     "duration": 0.054261,
     "end_time": "2021-07-27T21:35:21.557500",
     "exception": false,
     "start_time": "2021-07-27T21:35:21.503239",
     "status": "completed"
    },
    "tags": []
   },
   "outputs": [],
   "source": [
    "####### Rescaling variables #######\n",
    "from sklearn.preprocessing import StandardScaler\n",
    "from sklearn.pipeline import Pipeline\n",
    "\n",
    "pipeline = Pipeline([\n",
    "    ('std_scalar', StandardScaler())\n",
    "])\n",
    "\n",
    "X_train = pipeline.fit_transform(X_train)\n",
    "X_test = pipeline.transform(X_test)\n",
    "\n",
    "\n"
   ]
  },
  {
   "cell_type": "markdown",
   "id": "7082d258",
   "metadata": {
    "papermill": {
     "duration": 0.036385,
     "end_time": "2021-07-27T21:35:21.630594",
     "exception": false,
     "start_time": "2021-07-27T21:35:21.594209",
     "status": "completed"
    },
    "tags": []
   },
   "source": [
    "# 1. Linear Regression Algorithm"
   ]
  },
  {
   "cell_type": "code",
   "execution_count": 10,
   "id": "d08a2c33",
   "metadata": {
    "execution": {
     "iopub.execute_input": "2021-07-27T21:35:21.707151Z",
     "iopub.status.busy": "2021-07-27T21:35:21.706516Z",
     "iopub.status.idle": "2021-07-27T21:35:21.851083Z",
     "shell.execute_reply": "2021-07-27T21:35:21.850425Z",
     "shell.execute_reply.started": "2021-07-27T21:34:21.467292Z"
    },
    "papermill": {
     "duration": 0.184876,
     "end_time": "2021-07-27T21:35:21.851222",
     "exception": false,
     "start_time": "2021-07-27T21:35:21.666346",
     "status": "completed"
    },
    "tags": []
   },
   "outputs": [
    {
     "data": {
      "text/plain": [
       "LinearRegression(normalize=True)"
      ]
     },
     "execution_count": 10,
     "metadata": {},
     "output_type": "execute_result"
    }
   ],
   "source": [
    "from sklearn.linear_model import LinearRegression\n",
    "\n",
    "lin_reg = LinearRegression(normalize=True)\n",
    "lin_reg.fit(X_train,y_train)"
   ]
  },
  {
   "cell_type": "markdown",
   "id": "f76af988",
   "metadata": {
    "papermill": {
     "duration": 0.036002,
     "end_time": "2021-07-27T21:35:21.924753",
     "exception": false,
     "start_time": "2021-07-27T21:35:21.888751",
     "status": "completed"
    },
    "tags": []
   },
   "source": [
    "#### Model Evaluation"
   ]
  },
  {
   "cell_type": "code",
   "execution_count": 11,
   "id": "b678984d",
   "metadata": {
    "execution": {
     "iopub.execute_input": "2021-07-27T21:35:22.008912Z",
     "iopub.status.busy": "2021-07-27T21:35:22.008221Z",
     "iopub.status.idle": "2021-07-27T21:35:22.012421Z",
     "shell.execute_reply": "2021-07-27T21:35:22.012946Z",
     "shell.execute_reply.started": "2021-07-27T21:34:21.484044Z"
    },
    "papermill": {
     "duration": 0.052053,
     "end_time": "2021-07-27T21:35:22.013143",
     "exception": false,
     "start_time": "2021-07-27T21:35:21.961090",
     "status": "completed"
    },
    "tags": []
   },
   "outputs": [
    {
     "data": {
      "text/html": [
       "<div>\n",
       "<style scoped>\n",
       "    .dataframe tbody tr th:only-of-type {\n",
       "        vertical-align: middle;\n",
       "    }\n",
       "\n",
       "    .dataframe tbody tr th {\n",
       "        vertical-align: top;\n",
       "    }\n",
       "\n",
       "    .dataframe thead th {\n",
       "        text-align: right;\n",
       "    }\n",
       "</style>\n",
       "<table border=\"1\" class=\"dataframe\">\n",
       "  <thead>\n",
       "    <tr style=\"text-align: right;\">\n",
       "      <th></th>\n",
       "      <th>Coefficient</th>\n",
       "    </tr>\n",
       "  </thead>\n",
       "  <tbody>\n",
       "    <tr>\n",
       "      <th>CRIM</th>\n",
       "      <td>-1.108346</td>\n",
       "    </tr>\n",
       "    <tr>\n",
       "      <th>ZN</th>\n",
       "      <td>0.808440</td>\n",
       "    </tr>\n",
       "    <tr>\n",
       "      <th>INDUS</th>\n",
       "      <td>0.343135</td>\n",
       "    </tr>\n",
       "    <tr>\n",
       "      <th>CHAS</th>\n",
       "      <td>0.813864</td>\n",
       "    </tr>\n",
       "    <tr>\n",
       "      <th>NOX</th>\n",
       "      <td>-1.798043</td>\n",
       "    </tr>\n",
       "    <tr>\n",
       "      <th>RM</th>\n",
       "      <td>2.913858</td>\n",
       "    </tr>\n",
       "    <tr>\n",
       "      <th>AGE</th>\n",
       "      <td>-0.298939</td>\n",
       "    </tr>\n",
       "    <tr>\n",
       "      <th>DIS</th>\n",
       "      <td>-2.942511</td>\n",
       "    </tr>\n",
       "    <tr>\n",
       "      <th>RAD</th>\n",
       "      <td>2.094193</td>\n",
       "    </tr>\n",
       "    <tr>\n",
       "      <th>TAX</th>\n",
       "      <td>-1.447067</td>\n",
       "    </tr>\n",
       "    <tr>\n",
       "      <th>PTRATIO</th>\n",
       "      <td>-2.052322</td>\n",
       "    </tr>\n",
       "    <tr>\n",
       "      <th>B</th>\n",
       "      <td>1.023752</td>\n",
       "    </tr>\n",
       "    <tr>\n",
       "      <th>LSTAT</th>\n",
       "      <td>-3.885790</td>\n",
       "    </tr>\n",
       "  </tbody>\n",
       "</table>\n",
       "</div>"
      ],
      "text/plain": [
       "         Coefficient\n",
       "CRIM       -1.108346\n",
       "ZN          0.808440\n",
       "INDUS       0.343135\n",
       "CHAS        0.813864\n",
       "NOX        -1.798043\n",
       "RM          2.913858\n",
       "AGE        -0.298939\n",
       "DIS        -2.942511\n",
       "RAD         2.094193\n",
       "TAX        -1.447067\n",
       "PTRATIO    -2.052322\n",
       "B           1.023752\n",
       "LSTAT      -3.885790"
      ]
     },
     "execution_count": 11,
     "metadata": {},
     "output_type": "execute_result"
    }
   ],
   "source": [
    "coeff_df = pd.DataFrame(lin_reg.coef_, X.columns, columns=['Coefficient'])\n",
    "coeff_df"
   ]
  },
  {
   "cell_type": "markdown",
   "id": "f1ab4aa6",
   "metadata": {
    "papermill": {
     "duration": 0.036731,
     "end_time": "2021-07-27T21:35:22.086832",
     "exception": false,
     "start_time": "2021-07-27T21:35:22.050101",
     "status": "completed"
    },
    "tags": []
   },
   "source": [
    "****Note:**** coefficient are the values that multiply predict values"
   ]
  },
  {
   "cell_type": "code",
   "execution_count": 12,
   "id": "108b6820",
   "metadata": {
    "execution": {
     "iopub.execute_input": "2021-07-27T21:35:22.192363Z",
     "iopub.status.busy": "2021-07-27T21:35:22.187523Z",
     "iopub.status.idle": "2021-07-27T21:35:22.304723Z",
     "shell.execute_reply": "2021-07-27T21:35:22.304093Z",
     "shell.execute_reply.started": "2021-07-27T21:34:21.501763Z"
    },
    "papermill": {
     "duration": 0.180363,
     "end_time": "2021-07-27T21:35:22.304869",
     "exception": false,
     "start_time": "2021-07-27T21:35:22.124506",
     "status": "completed"
    },
    "tags": []
   },
   "outputs": [
    {
     "data": {
      "image/png": "[encoded data removed]",
      "text/plain": [
       "<Figure size 432x288 with 1 Axes>"
      ]
     },
     "metadata": {
      "needs_background": "light"
     },
     "output_type": "display_data"
    }
   ],
   "source": [
    "#Plotting our prediction\n",
    "pred = lin_reg.predict(X_test)\n",
    "plt.scatter(y_test, pred)\n",
    "plt.show()\n"
   ]
  },
  {
   "cell_type": "code",
   "execution_count": 13,
   "id": "3fea6342",
   "metadata": {
    "execution": {
     "iopub.execute_input": "2021-07-27T21:35:22.388779Z",
     "iopub.status.busy": "2021-07-27T21:35:22.387997Z",
     "iopub.status.idle": "2021-07-27T21:35:22.397778Z",
     "shell.execute_reply": "2021-07-27T21:35:22.398325Z",
     "shell.execute_reply.started": "2021-07-27T21:34:21.652437Z"
    },
    "papermill": {
     "duration": 0.056132,
     "end_time": "2021-07-27T21:35:22.398517",
     "exception": false,
     "start_time": "2021-07-27T21:35:22.342385",
     "status": "completed"
    },
    "tags": []
   },
   "outputs": [
    {
     "name": "stdout",
     "output_type": "stream",
     "text": [
      "Test set evaluation:\n",
      "_____________________________________\n",
      "MAE: 3.1627098714574045\n",
      "MSE: 21.517444231177205\n",
      "RMSE: 4.6386899261728205\n",
      "R2 Square 0.7112260057484934\n",
      "__________________________________\n",
      "Train set evaluation:\n",
      "_____________________________________\n",
      "MAE: 3.3568267821682065\n",
      "MSE: 22.545481487421423\n",
      "RMSE: 4.748208239685937\n",
      "R2 Square 0.7434997532004697\n",
      "__________________________________\n"
     ]
    }
   ],
   "source": [
    "#Prediction on test/train sets\n",
    "test_pred = lin_reg.predict(X_test)\n",
    "train_pred = lin_reg.predict(X_train)\n",
    "\n",
    "print('Test set evaluation:\\n_____________________________________')\n",
    "print_evaluate(y_test, test_pred)\n",
    "print('Train set evaluation:\\n_____________________________________')\n",
    "print_evaluate(y_train, train_pred)"
   ]
  },
  {
   "cell_type": "markdown",
   "id": "2c790fda",
   "metadata": {
    "papermill": {
     "duration": 0.037486,
     "end_time": "2021-07-27T21:35:22.475104",
     "exception": false,
     "start_time": "2021-07-27T21:35:22.437618",
     "status": "completed"
    },
    "tags": []
   },
   "source": [
    "****OverFitting****: training MSE lower than testing MSE\n",
    "<br>****UnderFitting****: very high MSE for testing MSE </br>"
   ]
  },
  {
   "cell_type": "code",
   "execution_count": 14,
   "id": "c59d0888",
   "metadata": {
    "execution": {
     "iopub.execute_input": "2021-07-27T21:35:22.565090Z",
     "iopub.status.busy": "2021-07-27T21:35:22.564213Z",
     "iopub.status.idle": "2021-07-27T21:35:22.567367Z",
     "shell.execute_reply": "2021-07-27T21:35:22.567911Z",
     "shell.execute_reply.started": "2021-07-27T21:34:21.669910Z"
    },
    "papermill": {
     "duration": 0.055415,
     "end_time": "2021-07-27T21:35:22.568089",
     "exception": false,
     "start_time": "2021-07-27T21:35:22.512674",
     "status": "completed"
    },
    "tags": []
   },
   "outputs": [
    {
     "data": {
      "text/html": [
       "<div>\n",
       "<style scoped>\n",
       "    .dataframe tbody tr th:only-of-type {\n",
       "        vertical-align: middle;\n",
       "    }\n",
       "\n",
       "    .dataframe tbody tr th {\n",
       "        vertical-align: top;\n",
       "    }\n",
       "\n",
       "    .dataframe thead th {\n",
       "        text-align: right;\n",
       "    }\n",
       "</style>\n",
       "<table border=\"1\" class=\"dataframe\">\n",
       "  <thead>\n",
       "    <tr style=\"text-align: right;\">\n",
       "      <th></th>\n",
       "      <th>Model</th>\n",
       "      <th>MAE</th>\n",
       "      <th>MSE</th>\n",
       "      <th>RMSE</th>\n",
       "      <th>R2 Square</th>\n",
       "    </tr>\n",
       "  </thead>\n",
       "  <tbody>\n",
       "    <tr>\n",
       "      <th>0</th>\n",
       "      <td>Linear Regression</td>\n",
       "      <td>3.16271</td>\n",
       "      <td>21.517444</td>\n",
       "      <td>4.63869</td>\n",
       "      <td>0.711226</td>\n",
       "    </tr>\n",
       "  </tbody>\n",
       "</table>\n",
       "</div>"
      ],
      "text/plain": [
       "               Model      MAE        MSE     RMSE  R2 Square\n",
       "0  Linear Regression  3.16271  21.517444  4.63869   0.711226"
      ]
     },
     "execution_count": 14,
     "metadata": {},
     "output_type": "execute_result"
    }
   ],
   "source": [
    "results_df = pd.DataFrame(data=[[\"Linear Regression\", *evaluate(y_test, test_pred)]], \n",
    "                          columns=['Model', 'MAE', 'MSE', 'RMSE', 'R2 Square'])\n",
    "results_df"
   ]
  },
  {
   "cell_type": "markdown",
   "id": "85eb4598",
   "metadata": {
    "papermill": {
     "duration": 0.038159,
     "end_time": "2021-07-27T21:35:22.644754",
     "exception": false,
     "start_time": "2021-07-27T21:35:22.606595",
     "status": "completed"
    },
    "tags": []
   },
   "source": [
    "# 2. Polynomial Regression"
   ]
  },
  {
   "cell_type": "code",
   "execution_count": 15,
   "id": "6bb337b7",
   "metadata": {
    "execution": {
     "iopub.execute_input": "2021-07-27T21:35:22.725722Z",
     "iopub.status.busy": "2021-07-27T21:35:22.725062Z",
     "iopub.status.idle": "2021-07-27T21:35:22.775582Z",
     "shell.execute_reply": "2021-07-27T21:35:22.776482Z",
     "shell.execute_reply.started": "2021-07-27T21:34:21.688161Z"
    },
    "papermill": {
     "duration": 0.093783,
     "end_time": "2021-07-27T21:35:22.776712",
     "exception": false,
     "start_time": "2021-07-27T21:35:22.682929",
     "status": "completed"
    },
    "tags": []
   },
   "outputs": [
    {
     "name": "stdout",
     "output_type": "stream",
     "text": [
      "Test set evaluation:\n",
      "_____________________________________\n",
      "MAE: 3.0649504691611162\n",
      "MSE: 25.257540307734445\n",
      "RMSE: 5.025688043217013\n",
      "R2 Square 0.6610321968877308\n",
      "__________________________________\n",
      "====================================\n",
      "Train set evaluation:\n",
      "_____________________________________\n",
      "MAE: 1.6945117794034708\n",
      "MSE: 4.660318639997245\n",
      "RMSE: 2.158777116794887\n",
      "R2 Square 0.9469794920108197\n",
      "__________________________________\n"
     ]
    }
   ],
   "source": [
    "from sklearn.preprocessing import PolynomialFeatures\n",
    "\n",
    "poly_reg = PolynomialFeatures(degree=2)\n",
    "\n",
    "X_train_2_d = poly_reg.fit_transform(X_train)\n",
    "X_test_2_d = poly_reg.transform(X_test)\n",
    "\n",
    "lin_reg = LinearRegression(normalize=True)\n",
    "lin_reg.fit(X_train_2_d,y_train)\n",
    "\n",
    "test_pred = lin_reg.predict(X_test_2_d)\n",
    "train_pred = lin_reg.predict(X_train_2_d)\n",
    "\n",
    "print('Test set evaluation:\\n_____________________________________')\n",
    "print_evaluate(y_test, test_pred)\n",
    "print('====================================')\n",
    "print('Train set evaluation:\\n_____________________________________')\n",
    "print_evaluate(y_train, train_pred)"
   ]
  },
  {
   "cell_type": "markdown",
   "id": "a3127ec8",
   "metadata": {
    "papermill": {
     "duration": 0.054063,
     "end_time": "2021-07-27T21:35:22.900181",
     "exception": false,
     "start_time": "2021-07-27T21:35:22.846118",
     "status": "completed"
    },
    "tags": []
   },
   "source": [
    "****This is example of overfitting. Polynomial regression tries so hard to fit data in training set, it leads to overfitting or not fitting\n",
    "unseen data well****"
   ]
  },
  {
   "cell_type": "code",
   "execution_count": 16,
   "id": "60e0a4e0",
   "metadata": {
    "execution": {
     "iopub.execute_input": "2021-07-27T21:35:22.996472Z",
     "iopub.status.busy": "2021-07-27T21:35:22.995327Z",
     "iopub.status.idle": "2021-07-27T21:35:22.999624Z",
     "shell.execute_reply": "2021-07-27T21:35:22.999107Z",
     "shell.execute_reply.started": "2021-07-27T21:34:21.725595Z"
    },
    "papermill": {
     "duration": 0.06077,
     "end_time": "2021-07-27T21:35:22.999772",
     "exception": false,
     "start_time": "2021-07-27T21:35:22.939002",
     "status": "completed"
    },
    "tags": []
   },
   "outputs": [
    {
     "data": {
      "text/html": [
       "<div>\n",
       "<style scoped>\n",
       "    .dataframe tbody tr th:only-of-type {\n",
       "        vertical-align: middle;\n",
       "    }\n",
       "\n",
       "    .dataframe tbody tr th {\n",
       "        vertical-align: top;\n",
       "    }\n",
       "\n",
       "    .dataframe thead th {\n",
       "        text-align: right;\n",
       "    }\n",
       "</style>\n",
       "<table border=\"1\" class=\"dataframe\">\n",
       "  <thead>\n",
       "    <tr style=\"text-align: right;\">\n",
       "      <th></th>\n",
       "      <th>Model</th>\n",
       "      <th>MAE</th>\n",
       "      <th>MSE</th>\n",
       "      <th>RMSE</th>\n",
       "      <th>R2 Square</th>\n",
       "    </tr>\n",
       "  </thead>\n",
       "  <tbody>\n",
       "    <tr>\n",
       "      <th>0</th>\n",
       "      <td>Linear Regression</td>\n",
       "      <td>3.16271</td>\n",
       "      <td>21.517444</td>\n",
       "      <td>4.638690</td>\n",
       "      <td>0.711226</td>\n",
       "    </tr>\n",
       "    <tr>\n",
       "      <th>1</th>\n",
       "      <td>Polynomial</td>\n",
       "      <td>3.06495</td>\n",
       "      <td>25.257540</td>\n",
       "      <td>5.025688</td>\n",
       "      <td>0.661032</td>\n",
       "    </tr>\n",
       "  </tbody>\n",
       "</table>\n",
       "</div>"
      ],
      "text/plain": [
       "               Model      MAE        MSE      RMSE  R2 Square\n",
       "0  Linear Regression  3.16271  21.517444  4.638690   0.711226\n",
       "1         Polynomial  3.06495  25.257540  5.025688   0.661032"
      ]
     },
     "execution_count": 16,
     "metadata": {},
     "output_type": "execute_result"
    }
   ],
   "source": [
    "results_df_2 = pd.DataFrame(data=[[\"Polynomial\", *evaluate(y_test, test_pred)]], \n",
    "                          columns=['Model', 'MAE', 'MSE', 'RMSE', 'R2 Square'])\n",
    "\n",
    "results_df = results_df.append(results_df_2, ignore_index=True)\n",
    "results_df"
   ]
  },
  {
   "cell_type": "markdown",
   "id": "0e4df8ed",
   "metadata": {
    "papermill": {
     "duration": 0.038802,
     "end_time": "2021-07-27T21:35:23.077517",
     "exception": false,
     "start_time": "2021-07-27T21:35:23.038715",
     "status": "completed"
    },
    "tags": []
   },
   "source": [
    "# 3. Random Forest Algorithm"
   ]
  },
  {
   "cell_type": "code",
   "execution_count": 17,
   "id": "93a88fa2",
   "metadata": {
    "execution": {
     "iopub.execute_input": "2021-07-27T21:35:23.161836Z",
     "iopub.status.busy": "2021-07-27T21:35:23.161072Z",
     "iopub.status.idle": "2021-07-27T21:35:26.938111Z",
     "shell.execute_reply": "2021-07-27T21:35:26.938859Z",
     "shell.execute_reply.started": "2021-07-27T21:34:21.767225Z"
    },
    "papermill": {
     "duration": 3.822501,
     "end_time": "2021-07-27T21:35:26.939104",
     "exception": false,
     "start_time": "2021-07-27T21:35:23.116603",
     "status": "completed"
    },
    "tags": []
   },
   "outputs": [
    {
     "name": "stdout",
     "output_type": "stream",
     "text": [
      "Test set evaluation:\n",
      "_____________________________________\n",
      "MAE: 2.093508552631585\n",
      "MSE: 9.552419075592104\n",
      "RMSE: 3.090698800529114\n",
      "R2 Square 0.8718021442701747\n",
      "__________________________________\n",
      "Train set evaluation:\n",
      "_____________________________________\n",
      "MAE: 0.8983039548022541\n",
      "MSE: 1.8885837144067605\n",
      "RMSE: 1.3742575138622166\n",
      "R2 Square 0.9785135576227468\n",
      "__________________________________\n"
     ]
    }
   ],
   "source": [
    "from sklearn.ensemble import RandomForestRegressor\n",
    "\n",
    "rf_reg = RandomForestRegressor(n_estimators=1000)\n",
    "rf_reg.fit(X_train, y_train)\n",
    "\n",
    "test_pred = rf_reg.predict(X_test)\n",
    "train_pred = rf_reg.predict(X_train)\n",
    "\n",
    "print('Test set evaluation:\\n_____________________________________')\n",
    "print_evaluate(y_test, test_pred)\n",
    "\n",
    "print('Train set evaluation:\\n_____________________________________')\n",
    "print_evaluate(y_train, train_pred)"
   ]
  },
  {
   "cell_type": "code",
   "execution_count": 18,
   "id": "c93db730",
   "metadata": {
    "execution": {
     "iopub.execute_input": "2021-07-27T21:35:27.036600Z",
     "iopub.status.busy": "2021-07-27T21:35:27.035662Z",
     "iopub.status.idle": "2021-07-27T21:35:27.040777Z",
     "shell.execute_reply": "2021-07-27T21:35:27.040189Z",
     "shell.execute_reply.started": "2021-07-27T21:34:25.560030Z"
    },
    "papermill": {
     "duration": 0.060879,
     "end_time": "2021-07-27T21:35:27.040919",
     "exception": false,
     "start_time": "2021-07-27T21:35:26.980040",
     "status": "completed"
    },
    "tags": []
   },
   "outputs": [
    {
     "data": {
      "text/html": [
       "<div>\n",
       "<style scoped>\n",
       "    .dataframe tbody tr th:only-of-type {\n",
       "        vertical-align: middle;\n",
       "    }\n",
       "\n",
       "    .dataframe tbody tr th {\n",
       "        vertical-align: top;\n",
       "    }\n",
       "\n",
       "    .dataframe thead th {\n",
       "        text-align: right;\n",
       "    }\n",
       "</style>\n",
       "<table border=\"1\" class=\"dataframe\">\n",
       "  <thead>\n",
       "    <tr style=\"text-align: right;\">\n",
       "      <th></th>\n",
       "      <th>Model</th>\n",
       "      <th>MAE</th>\n",
       "      <th>MSE</th>\n",
       "      <th>RMSE</th>\n",
       "      <th>R2 Square</th>\n",
       "    </tr>\n",
       "  </thead>\n",
       "  <tbody>\n",
       "    <tr>\n",
       "      <th>0</th>\n",
       "      <td>Linear Regression</td>\n",
       "      <td>3.162710</td>\n",
       "      <td>21.517444</td>\n",
       "      <td>4.638690</td>\n",
       "      <td>0.711226</td>\n",
       "    </tr>\n",
       "    <tr>\n",
       "      <th>1</th>\n",
       "      <td>Polynomial</td>\n",
       "      <td>3.064950</td>\n",
       "      <td>25.257540</td>\n",
       "      <td>5.025688</td>\n",
       "      <td>0.661032</td>\n",
       "    </tr>\n",
       "    <tr>\n",
       "      <th>2</th>\n",
       "      <td>Random Forest</td>\n",
       "      <td>2.093509</td>\n",
       "      <td>9.552419</td>\n",
       "      <td>3.090699</td>\n",
       "      <td>0.871802</td>\n",
       "    </tr>\n",
       "  </tbody>\n",
       "</table>\n",
       "</div>"
      ],
      "text/plain": [
       "               Model       MAE        MSE      RMSE  R2 Square\n",
       "0  Linear Regression  3.162710  21.517444  4.638690   0.711226\n",
       "1         Polynomial  3.064950  25.257540  5.025688   0.661032\n",
       "2      Random Forest  2.093509   9.552419  3.090699   0.871802"
      ]
     },
     "execution_count": 18,
     "metadata": {},
     "output_type": "execute_result"
    }
   ],
   "source": [
    "results_df_3 = pd.DataFrame(data=[[\"Random Forest\", *evaluate(y_test, test_pred)]], \n",
    "                          columns=['Model', 'MAE', 'MSE', 'RMSE', 'R2 Square'])\n",
    "\n",
    "results_df = results_df.append(results_df_3, ignore_index=True)\n",
    "results_df"
   ]
  },
  {
   "cell_type": "markdown",
   "id": "a7919be7",
   "metadata": {
    "papermill": {
     "duration": 0.040201,
     "end_time": "2021-07-27T21:35:27.121337",
     "exception": false,
     "start_time": "2021-07-27T21:35:27.081136",
     "status": "completed"
    },
    "tags": []
   },
   "source": [
    "# 4. Support Vector Machine Algorithm"
   ]
  },
  {
   "cell_type": "code",
   "execution_count": 19,
   "id": "88e4b422",
   "metadata": {
    "execution": {
     "iopub.execute_input": "2021-07-27T21:35:27.208368Z",
     "iopub.status.busy": "2021-07-27T21:35:27.207475Z",
     "iopub.status.idle": "2021-07-27T21:35:29.973865Z",
     "shell.execute_reply": "2021-07-27T21:35:29.974346Z",
     "shell.execute_reply.started": "2021-07-27T21:34:25.581417Z"
    },
    "papermill": {
     "duration": 2.812958,
     "end_time": "2021-07-27T21:35:29.974551",
     "exception": false,
     "start_time": "2021-07-27T21:35:27.161593",
     "status": "completed"
    },
    "tags": []
   },
   "outputs": [
    {
     "name": "stdout",
     "output_type": "stream",
     "text": [
      "Test set evaluation:\n",
      "_____________________________________\n",
      "MAE: 3.5451249446509867\n",
      "MSE: 28.50170584312022\n",
      "RMSE: 5.338698890471369\n",
      "R2 Square 0.6174940038941119\n",
      "__________________________________\n",
      "Train set evaluation:\n",
      "_____________________________________\n",
      "MAE: 0.001124699186135129\n",
      "MSE: 1.680746487337255e-06\n",
      "RMSE: 0.0012964360714424969\n",
      "R2 Square 0.9999999808781246\n",
      "__________________________________\n"
     ]
    }
   ],
   "source": [
    "from sklearn.svm import SVR\n",
    "\n",
    "svm_reg = SVR(kernel='rbf', C=1000000, epsilon=0.001)\n",
    "svm_reg.fit(X_train, y_train)\n",
    "\n",
    "test_pred = svm_reg.predict(X_test)\n",
    "train_pred = svm_reg.predict(X_train)\n",
    "\n",
    "print('Test set evaluation:\\n_____________________________________')\n",
    "print_evaluate(y_test, test_pred)\n",
    "\n",
    "print('Train set evaluation:\\n_____________________________________')\n",
    "print_evaluate(y_train, train_pred)"
   ]
  },
  {
   "cell_type": "markdown",
   "id": "b8cfd872",
   "metadata": {
    "papermill": {
     "duration": 0.041273,
     "end_time": "2021-07-27T21:35:30.056192",
     "exception": false,
     "start_time": "2021-07-27T21:35:30.014919",
     "status": "completed"
    },
    "tags": []
   },
   "source": [
    "Our R2 Square and MSE are excellent on training set, but it is terrible in test set. This is example of overfitting"
   ]
  },
  {
   "cell_type": "code",
   "execution_count": 20,
   "id": "bb2d7a4e",
   "metadata": {
    "execution": {
     "iopub.execute_input": "2021-07-27T21:35:30.153023Z",
     "iopub.status.busy": "2021-07-27T21:35:30.152276Z",
     "iopub.status.idle": "2021-07-27T21:35:30.157286Z",
     "shell.execute_reply": "2021-07-27T21:35:30.156773Z",
     "shell.execute_reply.started": "2021-07-27T21:34:28.335864Z"
    },
    "papermill": {
     "duration": 0.061516,
     "end_time": "2021-07-27T21:35:30.157431",
     "exception": false,
     "start_time": "2021-07-27T21:35:30.095915",
     "status": "completed"
    },
    "tags": []
   },
   "outputs": [
    {
     "data": {
      "text/html": [
       "<div>\n",
       "<style scoped>\n",
       "    .dataframe tbody tr th:only-of-type {\n",
       "        vertical-align: middle;\n",
       "    }\n",
       "\n",
       "    .dataframe tbody tr th {\n",
       "        vertical-align: top;\n",
       "    }\n",
       "\n",
       "    .dataframe thead th {\n",
       "        text-align: right;\n",
       "    }\n",
       "</style>\n",
       "<table border=\"1\" class=\"dataframe\">\n",
       "  <thead>\n",
       "    <tr style=\"text-align: right;\">\n",
       "      <th></th>\n",
       "      <th>Model</th>\n",
       "      <th>MAE</th>\n",
       "      <th>MSE</th>\n",
       "      <th>RMSE</th>\n",
       "      <th>R2 Square</th>\n",
       "    </tr>\n",
       "  </thead>\n",
       "  <tbody>\n",
       "    <tr>\n",
       "      <th>0</th>\n",
       "      <td>Linear Regression</td>\n",
       "      <td>3.162710</td>\n",
       "      <td>21.517444</td>\n",
       "      <td>4.638690</td>\n",
       "      <td>0.711226</td>\n",
       "    </tr>\n",
       "    <tr>\n",
       "      <th>1</th>\n",
       "      <td>Polynomial</td>\n",
       "      <td>3.064950</td>\n",
       "      <td>25.257540</td>\n",
       "      <td>5.025688</td>\n",
       "      <td>0.661032</td>\n",
       "    </tr>\n",
       "    <tr>\n",
       "      <th>2</th>\n",
       "      <td>Random Forest</td>\n",
       "      <td>2.093509</td>\n",
       "      <td>9.552419</td>\n",
       "      <td>3.090699</td>\n",
       "      <td>0.871802</td>\n",
       "    </tr>\n",
       "    <tr>\n",
       "      <th>3</th>\n",
       "      <td>Support Vector Machine</td>\n",
       "      <td>3.545125</td>\n",
       "      <td>28.501706</td>\n",
       "      <td>5.338699</td>\n",
       "      <td>0.617494</td>\n",
       "    </tr>\n",
       "  </tbody>\n",
       "</table>\n",
       "</div>"
      ],
      "text/plain": [
       "                    Model       MAE        MSE      RMSE  R2 Square\n",
       "0       Linear Regression  3.162710  21.517444  4.638690   0.711226\n",
       "1              Polynomial  3.064950  25.257540  5.025688   0.661032\n",
       "2           Random Forest  2.093509   9.552419  3.090699   0.871802\n",
       "3  Support Vector Machine  3.545125  28.501706  5.338699   0.617494"
      ]
     },
     "execution_count": 20,
     "metadata": {},
     "output_type": "execute_result"
    }
   ],
   "source": [
    "results_df_4 = pd.DataFrame(data=[[\"Support Vector Machine\", *evaluate(y_test, test_pred)]], \n",
    "                          columns=['Model', 'MAE', 'MSE', 'RMSE', 'R2 Square'])\n",
    "\n",
    "results_df = results_df.append(results_df_4, ignore_index=True)\n",
    "results_df"
   ]
  },
  {
   "cell_type": "markdown",
   "id": "999d0817",
   "metadata": {
    "papermill": {
     "duration": 0.04051,
     "end_time": "2021-07-27T21:35:30.239430",
     "exception": false,
     "start_time": "2021-07-27T21:35:30.198920",
     "status": "completed"
    },
    "tags": []
   },
   "source": [
    "# Comparing Models"
   ]
  },
  {
   "cell_type": "code",
   "execution_count": 21,
   "id": "041d50ab",
   "metadata": {
    "execution": {
     "iopub.execute_input": "2021-07-27T21:35:30.327335Z",
     "iopub.status.busy": "2021-07-27T21:35:30.326467Z",
     "iopub.status.idle": "2021-07-27T21:35:30.512801Z",
     "shell.execute_reply": "2021-07-27T21:35:30.512219Z",
     "shell.execute_reply.started": "2021-07-27T21:34:28.356572Z"
    },
    "papermill": {
     "duration": 0.23277,
     "end_time": "2021-07-27T21:35:30.512942",
     "exception": false,
     "start_time": "2021-07-27T21:35:30.280172",
     "status": "completed"
    },
    "tags": []
   },
   "outputs": [
    {
     "data": {
      "text/plain": [
       "<AxesSubplot:ylabel='Model'>"
      ]
     },
     "execution_count": 21,
     "metadata": {},
     "output_type": "execute_result"
    },
    {
     "data": {
      "image/png": "[encoded data removed]",
      "text/plain": [
       "<Figure size 864x576 with 1 Axes>"
      ]
     },
     "metadata": {
      "needs_background": "light"
     },
     "output_type": "display_data"
    }
   ],
   "source": [
    "results_df.set_index('Model', inplace=True)\n",
    "results_df['R2 Square'].plot(kind='barh', figsize=(12, 8)) #barh stands for bar histogram "
   ]
  },
  {
   "cell_type": "markdown",
   "id": "cd2973ff",
   "metadata": {
    "papermill": {
     "duration": 0.041215,
     "end_time": "2021-07-27T21:35:30.596095",
     "exception": false,
     "start_time": "2021-07-27T21:35:30.554880",
     "status": "completed"
    },
    "tags": []
   },
   "source": [
    "# Summary"
   ]
  },
  {
   "cell_type": "markdown",
   "id": "ff39a28d",
   "metadata": {
    "papermill": {
     "duration": 0.041061,
     "end_time": "2021-07-27T21:35:30.679015",
     "exception": false,
     "start_time": "2021-07-27T21:35:30.637954",
     "status": "completed"
    },
    "tags": []
   },
   "source": [
    "### Random Forest outperforms all other regression.\n",
    "##### Comparing Linear Regression to Random Forest\n",
    "<br> Random Forest performs better because it does not make the assumption of linear regression </br>\n",
    "<br> CHAS features is a categorical variables with 0 and 1. Random Forest performs better than linear regression on such dataset.</br>"
   ]
  }
 ],
 "metadata": {
  "kernelspec": {
   "display_name": "Python 3",
   "language": "python",
   "name": "python3"
  },
  "language_info": {
   "codemirror_mode": {
    "name": "ipython",
    "version": 3
   },
   "file_extension": ".py",
   "mimetype": "text/x-python",
   "name": "python",
   "nbconvert_exporter": "python",
   "pygments_lexer": "ipython3",
   "version": "3.7.10"
  },
  "papermill": {
   "default_parameters": {},
   "duration": 22.70693,
   "end_time": "2021-07-27T21:35:31.531568",
   "environment_variables": {},
   "exception": null,
   "input_path": "__notebook__.ipynb",
   "output_path": "__notebook__.ipynb",
   "parameters": {},
   "start_time": "2021-07-27T21:35:08.824638",
   "version": "2.3.3"
  }
 },
 "nbformat": 4,
 "nbformat_minor": 5
}
