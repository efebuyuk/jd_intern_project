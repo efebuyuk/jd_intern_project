{
 "cells": [
  {
   "cell_type": "code",
   "execution_count": 1,
   "id": "54918e50",
   "metadata": {
    "_cell_guid": "b1076dfc-b9ad-4769-8c92-a6c4dae69d19",
    "_uuid": "8f2839f25d086af736a60e9eeb907d3b93b6e0e5",
    "execution": {
     "iopub.execute_input": "2021-08-05T09:55:33.817762Z",
     "iopub.status.busy": "2021-08-05T09:55:33.815835Z",
     "iopub.status.idle": "2021-08-05T09:55:34.992091Z",
     "shell.execute_reply": "2021-08-05T09:55:34.991461Z",
     "shell.execute_reply.started": "2021-08-05T09:45:17.468345Z"
    },
    "papermill": {
     "duration": 1.196384,
     "end_time": "2021-08-05T09:55:34.992244",
     "exception": false,
     "start_time": "2021-08-05T09:55:33.795860",
     "status": "completed"
    },
    "tags": []
   },
   "outputs": [
    {
     "name": "stdout",
     "output_type": "stream",
     "text": [
      "/kaggle/input/tabular-playground-series-aug-2021/sample_submission.csv\n",
      "/kaggle/input/tabular-playground-series-aug-2021/train.csv\n",
      "/kaggle/input/tabular-playground-series-aug-2021/test.csv\n"
     ]
    }
   ],
   "source": [
    "# This Python 3 environment comes with many helpful analytics libraries installed\n",
    "# It is defined by the kaggle/python Docker image: https://github.com/kaggle/docker-python\n",
    "# For example, here's several helpful packages to load\n",
    "\n",
    "import numpy as np # linear algebra\n",
    "import pandas as pd # data processing, CSV file I/O (e.g. pd.read_csv)\n",
    "\n",
    "import matplotlib.pyplot as plt\n",
    "import seaborn as sns\n",
    "\n",
    "from sklearn.linear_model import LinearRegression\n",
    "from sklearn.model_selection import train_test_split\n",
    "from sklearn.metrics import mean_absolute_error, mean_squared_error\n",
    "from sklearn.preprocessing import StandardScaler\n",
    "\n",
    "\n",
    "# Input data files are available in the read-only \"../input/\" directory\n",
    "# For example, running this (by clicking run or pressing Shift+Enter) will list all files under the input directory\n",
    "\n",
    "import os\n",
    "for dirname, _, filenames in os.walk('/kaggle/input'):\n",
    "    for filename in filenames:\n",
    "        print(os.path.join(dirname, filename))\n",
    "\n",
    "# You can write up to 20GB to the current directory (/kaggle/working/) that gets preserved as output when you create a version using \"Save & Run All\" \n",
    "# You can also write temporary files to /kaggle/temp/, but they won't be saved outside of the current session"
   ]
  },
  {
   "cell_type": "markdown",
   "id": "4be13e70",
   "metadata": {
    "papermill": {
     "duration": 0.01174,
     "end_time": "2021-08-05T09:55:35.016230",
     "exception": false,
     "start_time": "2021-08-05T09:55:35.004490",
     "status": "completed"
    },
    "tags": []
   },
   "source": [
    "### Data Analysis"
   ]
  },
  {
   "cell_type": "code",
   "execution_count": 2,
   "id": "03fd5fc7",
   "metadata": {
    "execution": {
     "iopub.execute_input": "2021-08-05T09:55:35.043019Z",
     "iopub.status.busy": "2021-08-05T09:55:35.042473Z",
     "iopub.status.idle": "2021-08-05T09:55:42.781119Z",
     "shell.execute_reply": "2021-08-05T09:55:42.781521Z",
     "shell.execute_reply.started": "2021-08-05T09:45:25.977794Z"
    },
    "papermill": {
     "duration": 7.754225,
     "end_time": "2021-08-05T09:55:42.781673",
     "exception": false,
     "start_time": "2021-08-05T09:55:35.027448",
     "status": "completed"
    },
    "tags": []
   },
   "outputs": [],
   "source": [
    "test = pd.read_csv('/kaggle/input/tabular-playground-series-aug-2021/test.csv')\n",
    "train = pd.read_csv('/kaggle/input/tabular-playground-series-aug-2021/train.csv')"
   ]
  },
  {
   "cell_type": "code",
   "execution_count": 3,
   "id": "f033b0ee",
   "metadata": {
    "execution": {
     "iopub.execute_input": "2021-08-05T09:55:42.818807Z",
     "iopub.status.busy": "2021-08-05T09:55:42.813379Z",
     "iopub.status.idle": "2021-08-05T09:55:42.842891Z",
     "shell.execute_reply": "2021-08-05T09:55:42.842437Z"
    },
    "papermill": {
     "duration": 0.050472,
     "end_time": "2021-08-05T09:55:42.842993",
     "exception": false,
     "start_time": "2021-08-05T09:55:42.792521",
     "status": "completed"
    },
    "tags": []
   },
   "outputs": [
    {
     "data": {
      "text/html": [
       "<div>\n",
       "<style scoped>\n",
       "    .dataframe tbody tr th:only-of-type {\n",
       "        vertical-align: middle;\n",
       "    }\n",
       "\n",
       "    .dataframe tbody tr th {\n",
       "        vertical-align: top;\n",
       "    }\n",
       "\n",
       "    .dataframe thead th {\n",
       "        text-align: right;\n",
       "    }\n",
       "</style>\n",
       "<table border=\"1\" class=\"dataframe\">\n",
       "  <thead>\n",
       "    <tr style=\"text-align: right;\">\n",
       "      <th></th>\n",
       "      <th>id</th>\n",
       "      <th>f0</th>\n",
       "      <th>f1</th>\n",
       "      <th>f2</th>\n",
       "      <th>f3</th>\n",
       "      <th>f4</th>\n",
       "      <th>f5</th>\n",
       "      <th>f6</th>\n",
       "      <th>f7</th>\n",
       "      <th>f8</th>\n",
       "      <th>...</th>\n",
       "      <th>f91</th>\n",
       "      <th>f92</th>\n",
       "      <th>f93</th>\n",
       "      <th>f94</th>\n",
       "      <th>f95</th>\n",
       "      <th>f96</th>\n",
       "      <th>f97</th>\n",
       "      <th>f98</th>\n",
       "      <th>f99</th>\n",
       "      <th>loss</th>\n",
       "    </tr>\n",
       "  </thead>\n",
       "  <tbody>\n",
       "    <tr>\n",
       "      <th>0</th>\n",
       "      <td>0</td>\n",
       "      <td>-0.002350</td>\n",
       "      <td>59</td>\n",
       "      <td>0.766739</td>\n",
       "      <td>-1.350460</td>\n",
       "      <td>42.2727</td>\n",
       "      <td>16.68570</td>\n",
       "      <td>30.3599</td>\n",
       "      <td>1.267300</td>\n",
       "      <td>0.392007</td>\n",
       "      <td>...</td>\n",
       "      <td>-42.43990</td>\n",
       "      <td>26.854000</td>\n",
       "      <td>1.45751</td>\n",
       "      <td>0.696161</td>\n",
       "      <td>0.941764</td>\n",
       "      <td>1.828470</td>\n",
       "      <td>0.924090</td>\n",
       "      <td>2.29658</td>\n",
       "      <td>10.48980</td>\n",
       "      <td>15</td>\n",
       "    </tr>\n",
       "    <tr>\n",
       "      <th>1</th>\n",
       "      <td>1</td>\n",
       "      <td>0.784462</td>\n",
       "      <td>145</td>\n",
       "      <td>-0.463845</td>\n",
       "      <td>-0.530421</td>\n",
       "      <td>27324.9000</td>\n",
       "      <td>3.47545</td>\n",
       "      <td>160.4980</td>\n",
       "      <td>0.828007</td>\n",
       "      <td>3.735860</td>\n",
       "      <td>...</td>\n",
       "      <td>-184.13200</td>\n",
       "      <td>7.901370</td>\n",
       "      <td>1.70644</td>\n",
       "      <td>-0.494699</td>\n",
       "      <td>-2.058300</td>\n",
       "      <td>0.819184</td>\n",
       "      <td>0.439152</td>\n",
       "      <td>2.36470</td>\n",
       "      <td>1.14383</td>\n",
       "      <td>3</td>\n",
       "    </tr>\n",
       "    <tr>\n",
       "      <th>2</th>\n",
       "      <td>2</td>\n",
       "      <td>0.317816</td>\n",
       "      <td>19</td>\n",
       "      <td>-0.432571</td>\n",
       "      <td>-0.382644</td>\n",
       "      <td>1383.2600</td>\n",
       "      <td>19.71290</td>\n",
       "      <td>31.1026</td>\n",
       "      <td>-0.515354</td>\n",
       "      <td>34.430800</td>\n",
       "      <td>...</td>\n",
       "      <td>7.43721</td>\n",
       "      <td>37.218100</td>\n",
       "      <td>3.25339</td>\n",
       "      <td>0.337934</td>\n",
       "      <td>0.615037</td>\n",
       "      <td>2.216760</td>\n",
       "      <td>0.745268</td>\n",
       "      <td>1.69679</td>\n",
       "      <td>12.30550</td>\n",
       "      <td>6</td>\n",
       "    </tr>\n",
       "    <tr>\n",
       "      <th>3</th>\n",
       "      <td>3</td>\n",
       "      <td>0.210753</td>\n",
       "      <td>17</td>\n",
       "      <td>-0.616454</td>\n",
       "      <td>0.946362</td>\n",
       "      <td>-119.2530</td>\n",
       "      <td>4.08235</td>\n",
       "      <td>185.2570</td>\n",
       "      <td>1.383310</td>\n",
       "      <td>-47.521400</td>\n",
       "      <td>...</td>\n",
       "      <td>9.66778</td>\n",
       "      <td>0.626942</td>\n",
       "      <td>1.49425</td>\n",
       "      <td>0.517513</td>\n",
       "      <td>-10.222100</td>\n",
       "      <td>2.627310</td>\n",
       "      <td>0.617270</td>\n",
       "      <td>1.45645</td>\n",
       "      <td>10.02880</td>\n",
       "      <td>2</td>\n",
       "    </tr>\n",
       "    <tr>\n",
       "      <th>4</th>\n",
       "      <td>4</td>\n",
       "      <td>0.439671</td>\n",
       "      <td>20</td>\n",
       "      <td>0.968126</td>\n",
       "      <td>-0.092546</td>\n",
       "      <td>74.3020</td>\n",
       "      <td>12.30650</td>\n",
       "      <td>72.1860</td>\n",
       "      <td>-0.233964</td>\n",
       "      <td>24.399100</td>\n",
       "      <td>...</td>\n",
       "      <td>290.65700</td>\n",
       "      <td>15.604300</td>\n",
       "      <td>1.73557</td>\n",
       "      <td>-0.476668</td>\n",
       "      <td>1.390190</td>\n",
       "      <td>2.195740</td>\n",
       "      <td>0.826987</td>\n",
       "      <td>1.78485</td>\n",
       "      <td>7.07197</td>\n",
       "      <td>1</td>\n",
       "    </tr>\n",
       "  </tbody>\n",
       "</table>\n",
       "<p>5 rows × 102 columns</p>\n",
       "</div>"
      ],
      "text/plain": [
       "   id        f0   f1        f2        f3          f4        f5        f6  \\\n",
       "0   0 -0.002350   59  0.766739 -1.350460     42.2727  16.68570   30.3599   \n",
       "1   1  0.784462  145 -0.463845 -0.530421  27324.9000   3.47545  160.4980   \n",
       "2   2  0.317816   19 -0.432571 -0.382644   1383.2600  19.71290   31.1026   \n",
       "3   3  0.210753   17 -0.616454  0.946362   -119.2530   4.08235  185.2570   \n",
       "4   4  0.439671   20  0.968126 -0.092546     74.3020  12.30650   72.1860   \n",
       "\n",
       "         f7         f8  ...        f91        f92      f93       f94  \\\n",
       "0  1.267300   0.392007  ...  -42.43990  26.854000  1.45751  0.696161   \n",
       "1  0.828007   3.735860  ... -184.13200   7.901370  1.70644 -0.494699   \n",
       "2 -0.515354  34.430800  ...    7.43721  37.218100  3.25339  0.337934   \n",
       "3  1.383310 -47.521400  ...    9.66778   0.626942  1.49425  0.517513   \n",
       "4 -0.233964  24.399100  ...  290.65700  15.604300  1.73557 -0.476668   \n",
       "\n",
       "         f95       f96       f97      f98       f99  loss  \n",
       "0   0.941764  1.828470  0.924090  2.29658  10.48980    15  \n",
       "1  -2.058300  0.819184  0.439152  2.36470   1.14383     3  \n",
       "2   0.615037  2.216760  0.745268  1.69679  12.30550     6  \n",
       "3 -10.222100  2.627310  0.617270  1.45645  10.02880     2  \n",
       "4   1.390190  2.195740  0.826987  1.78485   7.07197     1  \n",
       "\n",
       "[5 rows x 102 columns]"
      ]
     },
     "execution_count": 3,
     "metadata": {},
     "output_type": "execute_result"
    }
   ],
   "source": [
    "train.head()"
   ]
  },
  {
   "cell_type": "code",
   "execution_count": 4,
   "id": "a613e618",
   "metadata": {
    "execution": {
     "iopub.execute_input": "2021-08-05T09:55:42.889659Z",
     "iopub.status.busy": "2021-08-05T09:55:42.878313Z",
     "iopub.status.idle": "2021-08-05T09:55:42.892900Z",
     "shell.execute_reply": "2021-08-05T09:55:42.892451Z"
    },
    "papermill": {
     "duration": 0.038511,
     "end_time": "2021-08-05T09:55:42.892999",
     "exception": false,
     "start_time": "2021-08-05T09:55:42.854488",
     "status": "completed"
    },
    "tags": []
   },
   "outputs": [
    {
     "data": {
      "text/html": [
       "<div>\n",
       "<style scoped>\n",
       "    .dataframe tbody tr th:only-of-type {\n",
       "        vertical-align: middle;\n",
       "    }\n",
       "\n",
       "    .dataframe tbody tr th {\n",
       "        vertical-align: top;\n",
       "    }\n",
       "\n",
       "    .dataframe thead th {\n",
       "        text-align: right;\n",
       "    }\n",
       "</style>\n",
       "<table border=\"1\" class=\"dataframe\">\n",
       "  <thead>\n",
       "    <tr style=\"text-align: right;\">\n",
       "      <th></th>\n",
       "      <th>id</th>\n",
       "      <th>f0</th>\n",
       "      <th>f1</th>\n",
       "      <th>f2</th>\n",
       "      <th>f3</th>\n",
       "      <th>f4</th>\n",
       "      <th>f5</th>\n",
       "      <th>f6</th>\n",
       "      <th>f7</th>\n",
       "      <th>f8</th>\n",
       "      <th>...</th>\n",
       "      <th>f90</th>\n",
       "      <th>f91</th>\n",
       "      <th>f92</th>\n",
       "      <th>f93</th>\n",
       "      <th>f94</th>\n",
       "      <th>f95</th>\n",
       "      <th>f96</th>\n",
       "      <th>f97</th>\n",
       "      <th>f98</th>\n",
       "      <th>f99</th>\n",
       "    </tr>\n",
       "  </thead>\n",
       "  <tbody>\n",
       "    <tr>\n",
       "      <th>0</th>\n",
       "      <td>250000</td>\n",
       "      <td>0.812665</td>\n",
       "      <td>15</td>\n",
       "      <td>-1.239120</td>\n",
       "      <td>-0.893251</td>\n",
       "      <td>295.5770</td>\n",
       "      <td>15.87120</td>\n",
       "      <td>23.04360</td>\n",
       "      <td>0.942256</td>\n",
       "      <td>29.898000</td>\n",
       "      <td>...</td>\n",
       "      <td>0.446389</td>\n",
       "      <td>-422.332</td>\n",
       "      <td>-1.44630</td>\n",
       "      <td>1.69075</td>\n",
       "      <td>1.059300</td>\n",
       "      <td>-3.010570</td>\n",
       "      <td>1.94664</td>\n",
       "      <td>0.529470</td>\n",
       "      <td>1.386950</td>\n",
       "      <td>8.78767</td>\n",
       "    </tr>\n",
       "    <tr>\n",
       "      <th>1</th>\n",
       "      <td>250001</td>\n",
       "      <td>0.190344</td>\n",
       "      <td>131</td>\n",
       "      <td>-0.501361</td>\n",
       "      <td>0.801921</td>\n",
       "      <td>64.8866</td>\n",
       "      <td>3.09703</td>\n",
       "      <td>344.80500</td>\n",
       "      <td>0.807194</td>\n",
       "      <td>38.421900</td>\n",
       "      <td>...</td>\n",
       "      <td>0.377179</td>\n",
       "      <td>10352.200</td>\n",
       "      <td>21.06270</td>\n",
       "      <td>1.84351</td>\n",
       "      <td>0.251895</td>\n",
       "      <td>4.440570</td>\n",
       "      <td>1.90309</td>\n",
       "      <td>0.248534</td>\n",
       "      <td>0.863881</td>\n",
       "      <td>11.79390</td>\n",
       "    </tr>\n",
       "    <tr>\n",
       "      <th>2</th>\n",
       "      <td>250002</td>\n",
       "      <td>0.919671</td>\n",
       "      <td>19</td>\n",
       "      <td>-0.057382</td>\n",
       "      <td>0.901419</td>\n",
       "      <td>11961.2000</td>\n",
       "      <td>16.39650</td>\n",
       "      <td>273.24000</td>\n",
       "      <td>-0.003300</td>\n",
       "      <td>37.940000</td>\n",
       "      <td>...</td>\n",
       "      <td>0.990140</td>\n",
       "      <td>3224.020</td>\n",
       "      <td>-2.25287</td>\n",
       "      <td>1.55100</td>\n",
       "      <td>-0.559157</td>\n",
       "      <td>17.838600</td>\n",
       "      <td>1.83385</td>\n",
       "      <td>0.931796</td>\n",
       "      <td>2.336870</td>\n",
       "      <td>9.05400</td>\n",
       "    </tr>\n",
       "    <tr>\n",
       "      <th>3</th>\n",
       "      <td>250003</td>\n",
       "      <td>0.860985</td>\n",
       "      <td>19</td>\n",
       "      <td>-0.549509</td>\n",
       "      <td>0.471799</td>\n",
       "      <td>7501.6000</td>\n",
       "      <td>2.80698</td>\n",
       "      <td>71.08170</td>\n",
       "      <td>0.792136</td>\n",
       "      <td>0.395235</td>\n",
       "      <td>...</td>\n",
       "      <td>1.396880</td>\n",
       "      <td>9689.760</td>\n",
       "      <td>14.77150</td>\n",
       "      <td>1.41390</td>\n",
       "      <td>0.329272</td>\n",
       "      <td>0.802437</td>\n",
       "      <td>2.23251</td>\n",
       "      <td>0.893348</td>\n",
       "      <td>1.359470</td>\n",
       "      <td>4.84833</td>\n",
       "    </tr>\n",
       "    <tr>\n",
       "      <th>4</th>\n",
       "      <td>250004</td>\n",
       "      <td>0.313229</td>\n",
       "      <td>89</td>\n",
       "      <td>0.588509</td>\n",
       "      <td>0.167705</td>\n",
       "      <td>2931.2600</td>\n",
       "      <td>4.34986</td>\n",
       "      <td>1.57187</td>\n",
       "      <td>1.118300</td>\n",
       "      <td>7.754630</td>\n",
       "      <td>...</td>\n",
       "      <td>0.862502</td>\n",
       "      <td>2693.350</td>\n",
       "      <td>44.18050</td>\n",
       "      <td>1.58020</td>\n",
       "      <td>-0.191021</td>\n",
       "      <td>26.253000</td>\n",
       "      <td>2.68238</td>\n",
       "      <td>0.361923</td>\n",
       "      <td>1.532800</td>\n",
       "      <td>3.70660</td>\n",
       "    </tr>\n",
       "  </tbody>\n",
       "</table>\n",
       "<p>5 rows × 101 columns</p>\n",
       "</div>"
      ],
      "text/plain": [
       "       id        f0   f1        f2        f3          f4        f5         f6  \\\n",
       "0  250000  0.812665   15 -1.239120 -0.893251    295.5770  15.87120   23.04360   \n",
       "1  250001  0.190344  131 -0.501361  0.801921     64.8866   3.09703  344.80500   \n",
       "2  250002  0.919671   19 -0.057382  0.901419  11961.2000  16.39650  273.24000   \n",
       "3  250003  0.860985   19 -0.549509  0.471799   7501.6000   2.80698   71.08170   \n",
       "4  250004  0.313229   89  0.588509  0.167705   2931.2600   4.34986    1.57187   \n",
       "\n",
       "         f7         f8  ...       f90        f91       f92      f93       f94  \\\n",
       "0  0.942256  29.898000  ...  0.446389   -422.332  -1.44630  1.69075  1.059300   \n",
       "1  0.807194  38.421900  ...  0.377179  10352.200  21.06270  1.84351  0.251895   \n",
       "2 -0.003300  37.940000  ...  0.990140   3224.020  -2.25287  1.55100 -0.559157   \n",
       "3  0.792136   0.395235  ...  1.396880   9689.760  14.77150  1.41390  0.329272   \n",
       "4  1.118300   7.754630  ...  0.862502   2693.350  44.18050  1.58020 -0.191021   \n",
       "\n",
       "         f95      f96       f97       f98       f99  \n",
       "0  -3.010570  1.94664  0.529470  1.386950   8.78767  \n",
       "1   4.440570  1.90309  0.248534  0.863881  11.79390  \n",
       "2  17.838600  1.83385  0.931796  2.336870   9.05400  \n",
       "3   0.802437  2.23251  0.893348  1.359470   4.84833  \n",
       "4  26.253000  2.68238  0.361923  1.532800   3.70660  \n",
       "\n",
       "[5 rows x 101 columns]"
      ]
     },
     "execution_count": 4,
     "metadata": {},
     "output_type": "execute_result"
    }
   ],
   "source": [
    "test.head()"
   ]
  },
  {
   "cell_type": "code",
   "execution_count": 5,
   "id": "321a493a",
   "metadata": {
    "execution": {
     "iopub.execute_input": "2021-08-05T09:55:42.918905Z",
     "iopub.status.busy": "2021-08-05T09:55:42.918471Z",
     "iopub.status.idle": "2021-08-05T09:55:42.940293Z",
     "shell.execute_reply": "2021-08-05T09:55:42.939740Z"
    },
    "papermill": {
     "duration": 0.035562,
     "end_time": "2021-08-05T09:55:42.940445",
     "exception": false,
     "start_time": "2021-08-05T09:55:42.904883",
     "status": "completed"
    },
    "tags": []
   },
   "outputs": [
    {
     "name": "stdout",
     "output_type": "stream",
     "text": [
      "<class 'pandas.core.frame.DataFrame'>\n",
      "RangeIndex: 250000 entries, 0 to 249999\n",
      "Columns: 102 entries, id to loss\n",
      "dtypes: float64(95), int64(7)\n",
      "memory usage: 194.5 MB\n"
     ]
    }
   ],
   "source": [
    "train.info()"
   ]
  },
  {
   "cell_type": "code",
   "execution_count": 6,
   "id": "88810e0f",
   "metadata": {
    "execution": {
     "iopub.execute_input": "2021-08-05T09:55:42.979079Z",
     "iopub.status.busy": "2021-08-05T09:55:42.978580Z",
     "iopub.status.idle": "2021-08-05T09:55:42.983277Z",
     "shell.execute_reply": "2021-08-05T09:55:42.982642Z"
    },
    "papermill": {
     "duration": 0.029802,
     "end_time": "2021-08-05T09:55:42.983408",
     "exception": false,
     "start_time": "2021-08-05T09:55:42.953606",
     "status": "completed"
    },
    "tags": []
   },
   "outputs": [
    {
     "name": "stdout",
     "output_type": "stream",
     "text": [
      "<class 'pandas.core.frame.DataFrame'>\n",
      "RangeIndex: 150000 entries, 0 to 149999\n",
      "Columns: 101 entries, id to f99\n",
      "dtypes: float64(95), int64(6)\n",
      "memory usage: 115.6 MB\n"
     ]
    }
   ],
   "source": [
    "test.info()"
   ]
  },
  {
   "cell_type": "code",
   "execution_count": 7,
   "id": "7910a73e",
   "metadata": {
    "execution": {
     "iopub.execute_input": "2021-08-05T09:55:43.014692Z",
     "iopub.status.busy": "2021-08-05T09:55:43.014130Z",
     "iopub.status.idle": "2021-08-05T09:55:43.017472Z",
     "shell.execute_reply": "2021-08-05T09:55:43.016880Z",
     "shell.execute_reply.started": "2021-08-05T09:52:59.686610Z"
    },
    "papermill": {
     "duration": 0.020763,
     "end_time": "2021-08-05T09:55:43.017610",
     "exception": false,
     "start_time": "2021-08-05T09:55:42.996847",
     "status": "completed"
    },
    "tags": []
   },
   "outputs": [
    {
     "name": "stdout",
     "output_type": "stream",
     "text": [
      "train shape: (250000, 102) test shape: (150000, 101)\n"
     ]
    }
   ],
   "source": [
    "print('train shape:', train.shape, 'test shape:', test.shape)"
   ]
  },
  {
   "cell_type": "markdown",
   "id": "c58b2db7",
   "metadata": {
    "papermill": {
     "duration": 0.013513,
     "end_time": "2021-08-05T09:55:43.045747",
     "exception": false,
     "start_time": "2021-08-05T09:55:43.032234",
     "status": "completed"
    },
    "tags": []
   },
   "source": [
    "**Let's look at the distribution of the target values**"
   ]
  },
  {
   "cell_type": "code",
   "execution_count": 8,
   "id": "be33911c",
   "metadata": {
    "execution": {
     "iopub.execute_input": "2021-08-05T09:55:43.074567Z",
     "iopub.status.busy": "2021-08-05T09:55:43.074115Z",
     "iopub.status.idle": "2021-08-05T09:55:43.583054Z",
     "shell.execute_reply": "2021-08-05T09:55:43.583435Z",
     "shell.execute_reply.started": "2021-08-05T09:53:31.892979Z"
    },
    "papermill": {
     "duration": 0.52434,
     "end_time": "2021-08-05T09:55:43.583593",
     "exception": false,
     "start_time": "2021-08-05T09:55:43.059253",
     "status": "completed"
    },
    "tags": []
   },
   "outputs": [
    {
     "data": {
      "text/plain": [
       "<seaborn.axisgrid.FacetGrid at 0x7ff3a6106fd0>"
      ]
     },
     "execution_count": 8,
     "metadata": {},
     "output_type": "execute_result"
    },
    {
     "data": {
      "image/png": "[encoded data removed]",
      "text/plain": [
       "<Figure size 360x360 with 1 Axes>"
      ]
     },
     "metadata": {
      "needs_background": "light"
     },
     "output_type": "display_data"
    }
   ],
   "source": [
    "sns.displot(train, x=\"loss\")"
   ]
  },
  {
   "cell_type": "code",
   "execution_count": 9,
   "id": "023f768f",
   "metadata": {
    "execution": {
     "iopub.execute_input": "2021-08-05T09:55:43.615642Z",
     "iopub.status.busy": "2021-08-05T09:55:43.615038Z",
     "iopub.status.idle": "2021-08-05T09:55:43.628538Z",
     "shell.execute_reply": "2021-08-05T09:55:43.628984Z",
     "shell.execute_reply.started": "2021-08-05T09:53:36.969695Z"
    },
    "papermill": {
     "duration": 0.031527,
     "end_time": "2021-08-05T09:55:43.629127",
     "exception": false,
     "start_time": "2021-08-05T09:55:43.597600",
     "status": "completed"
    },
    "tags": []
   },
   "outputs": [
    {
     "data": {
      "text/plain": [
       "count    250000.000000\n",
       "mean          6.813920\n",
       "std           7.940179\n",
       "min           0.000000\n",
       "25%           1.000000\n",
       "50%           4.000000\n",
       "75%          10.000000\n",
       "max          42.000000\n",
       "Name: loss, dtype: float64"
      ]
     },
     "execution_count": 9,
     "metadata": {},
     "output_type": "execute_result"
    }
   ],
   "source": [
    "train['loss'].describe()"
   ]
  },
  {
   "cell_type": "markdown",
   "id": "38cbf977",
   "metadata": {
    "papermill": {
     "duration": 0.014225,
     "end_time": "2021-08-05T09:55:43.658002",
     "exception": false,
     "start_time": "2021-08-05T09:55:43.643777",
     "status": "completed"
    },
    "tags": []
   },
   "source": [
    "### Data preparation"
   ]
  },
  {
   "cell_type": "code",
   "execution_count": 10,
   "id": "976d1a85",
   "metadata": {
    "execution": {
     "iopub.execute_input": "2021-08-05T09:55:43.725285Z",
     "iopub.status.busy": "2021-08-05T09:55:43.724785Z",
     "iopub.status.idle": "2021-08-05T09:55:43.729597Z",
     "shell.execute_reply": "2021-08-05T09:55:43.729134Z",
     "shell.execute_reply.started": "2021-08-05T09:45:40.684146Z"
    },
    "papermill": {
     "duration": 0.057103,
     "end_time": "2021-08-05T09:55:43.729711",
     "exception": false,
     "start_time": "2021-08-05T09:55:43.672608",
     "status": "completed"
    },
    "tags": []
   },
   "outputs": [],
   "source": [
    "X = train.drop(['id', 'loss'], axis = 1)\n",
    "Y = train['loss']"
   ]
  },
  {
   "cell_type": "code",
   "execution_count": 11,
   "id": "3e951eaf",
   "metadata": {
    "execution": {
     "iopub.execute_input": "2021-08-05T09:55:43.761240Z",
     "iopub.status.busy": "2021-08-05T09:55:43.760738Z",
     "iopub.status.idle": "2021-08-05T09:55:44.248628Z",
     "shell.execute_reply": "2021-08-05T09:55:44.248080Z",
     "shell.execute_reply.started": "2021-08-05T09:45:42.563818Z"
    },
    "papermill": {
     "duration": 0.504465,
     "end_time": "2021-08-05T09:55:44.248736",
     "exception": false,
     "start_time": "2021-08-05T09:55:43.744271",
     "status": "completed"
    },
    "tags": []
   },
   "outputs": [],
   "source": [
    "sc=StandardScaler()\n",
    "X_train = sc.fit_transform(X)\n",
    "X_test = sc.transform(test.drop('id', axis = 1))\n",
    "y_train=Y"
   ]
  },
  {
   "cell_type": "code",
   "execution_count": 12,
   "id": "b0f12d42",
   "metadata": {
    "execution": {
     "iopub.execute_input": "2021-08-05T09:55:44.281808Z",
     "iopub.status.busy": "2021-08-05T09:55:44.281303Z",
     "iopub.status.idle": "2021-08-05T09:55:44.920078Z",
     "shell.execute_reply": "2021-08-05T09:55:44.919381Z",
     "shell.execute_reply.started": "2021-08-05T09:45:48.115919Z"
    },
    "papermill": {
     "duration": 0.657113,
     "end_time": "2021-08-05T09:55:44.920254",
     "exception": false,
     "start_time": "2021-08-05T09:55:44.263141",
     "status": "completed"
    },
    "tags": []
   },
   "outputs": [],
   "source": [
    "model_lr = LinearRegression().fit(X_train, y_train)"
   ]
  },
  {
   "cell_type": "markdown",
   "id": "48faa1fe",
   "metadata": {
    "papermill": {
     "duration": 0.020976,
     "end_time": "2021-08-05T09:55:44.963255",
     "exception": false,
     "start_time": "2021-08-05T09:55:44.942279",
     "status": "completed"
    },
    "tags": []
   },
   "source": [
    "### Prediction"
   ]
  },
  {
   "cell_type": "code",
   "execution_count": 13,
   "id": "c91f65f8",
   "metadata": {
    "execution": {
     "iopub.execute_input": "2021-08-05T09:55:45.010140Z",
     "iopub.status.busy": "2021-08-05T09:55:45.009382Z",
     "iopub.status.idle": "2021-08-05T09:55:45.024396Z",
     "shell.execute_reply": "2021-08-05T09:55:45.024854Z",
     "shell.execute_reply.started": "2021-08-05T09:45:54.037539Z"
    },
    "papermill": {
     "duration": 0.040695,
     "end_time": "2021-08-05T09:55:45.025034",
     "exception": false,
     "start_time": "2021-08-05T09:55:44.984339",
     "status": "completed"
    },
    "tags": []
   },
   "outputs": [],
   "source": [
    "y_pred_lr = model_lr.predict(X_test)"
   ]
  },
  {
   "cell_type": "code",
   "execution_count": 14,
   "id": "6d0e81b0",
   "metadata": {
    "execution": {
     "iopub.execute_input": "2021-08-05T09:55:45.068815Z",
     "iopub.status.busy": "2021-08-05T09:55:45.068338Z",
     "iopub.status.idle": "2021-08-05T09:55:45.507955Z",
     "shell.execute_reply": "2021-08-05T09:55:45.507175Z",
     "shell.execute_reply.started": "2021-08-05T09:46:31.894587Z"
    },
    "papermill": {
     "duration": 0.463824,
     "end_time": "2021-08-05T09:55:45.508064",
     "exception": false,
     "start_time": "2021-08-05T09:55:45.044240",
     "status": "completed"
    },
    "tags": []
   },
   "outputs": [],
   "source": [
    "submission = pd.read_csv('/kaggle/input/tabular-playground-series-aug-2021/sample_submission.csv')\n",
    "submission[\"loss\"]= y_pred_lr\n",
    "submission.to_csv(\"submissionlr.csv\", index=False)"
   ]
  }
 ],
 "metadata": {
  "kernelspec": {
   "display_name": "Python 3",
   "language": "python",
   "name": "python3"
  },
  "language_info": {
   "codemirror_mode": {
    "name": "ipython",
    "version": 3
   },
   "file_extension": ".py",
   "mimetype": "text/x-python",
   "name": "python",
   "nbconvert_exporter": "python",
   "pygments_lexer": "ipython3",
   "version": "3.7.10"
  },
  "papermill": {
   "default_parameters": {},
   "duration": 19.765737,
   "end_time": "2021-08-05T09:55:46.769376",
   "environment_variables": {},
   "exception": null,
   "input_path": "__notebook__.ipynb",
   "output_path": "__notebook__.ipynb",
   "parameters": {},
   "start_time": "2021-08-05T09:55:27.003639",
   "version": "2.3.3"
  }
 },
 "nbformat": 4,
 "nbformat_minor": 5
}
