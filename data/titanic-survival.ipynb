{
 "cells": [
  {
   "cell_type": "code",
   "execution_count": 1,
   "metadata": {
    "_cell_guid": "b1076dfc-b9ad-4769-8c92-a6c4dae69d19",
    "_uuid": "8f2839f25d086af736a60e9eeb907d3b93b6e0e5",
    "execution": {
     "iopub.execute_input": "2021-08-05T11:14:32.264817Z",
     "iopub.status.busy": "2021-08-05T11:14:32.264081Z",
     "iopub.status.idle": "2021-08-05T11:14:33.509035Z",
     "shell.execute_reply": "2021-08-05T11:14:33.508246Z",
     "shell.execute_reply.started": "2021-08-05T11:07:21.656141Z"
    },
    "papermill": {
     "duration": 1.301175,
     "end_time": "2021-08-05T11:14:33.509271",
     "exception": false,
     "start_time": "2021-08-05T11:14:32.208096",
     "status": "completed"
    },
    "tags": []
   },
   "outputs": [],
   "source": [
    "import pandas as pd\n",
    "import numpy as np\n",
    "import matplotlib.pyplot as plt\n",
    "%matplotlib inline\n",
    "import matplotlib\n",
    "import seaborn as sn\n",
    "from sklearn.metrics import  classification_report\n"
   ]
  },
  {
   "cell_type": "code",
   "execution_count": 2,
   "metadata": {
    "execution": {
     "iopub.execute_input": "2021-08-05T11:14:33.625746Z",
     "iopub.status.busy": "2021-08-05T11:14:33.625098Z",
     "iopub.status.idle": "2021-08-05T11:14:33.654876Z",
     "shell.execute_reply": "2021-08-05T11:14:33.654173Z",
     "shell.execute_reply.started": "2021-08-05T11:07:21.826695Z"
    },
    "papermill": {
     "duration": 0.08698,
     "end_time": "2021-08-05T11:14:33.655060",
     "exception": false,
     "start_time": "2021-08-05T11:14:33.568080",
     "status": "completed"
    },
    "tags": []
   },
   "outputs": [],
   "source": [
    "train_df = pd.read_csv('../input/titanic/train.csv')\n",
    "test_df = pd.read_csv('../input/titanic/test.csv')"
   ]
  },
  {
   "cell_type": "code",
   "execution_count": 3,
   "metadata": {
    "execution": {
     "iopub.execute_input": "2021-08-05T11:14:33.750353Z",
     "iopub.status.busy": "2021-08-05T11:14:33.749656Z",
     "iopub.status.idle": "2021-08-05T11:14:33.752768Z",
     "shell.execute_reply": "2021-08-05T11:14:33.753229Z",
     "shell.execute_reply.started": "2021-08-05T11:07:21.862129Z"
    },
    "papermill": {
     "duration": 0.054222,
     "end_time": "2021-08-05T11:14:33.753418",
     "exception": false,
     "start_time": "2021-08-05T11:14:33.699196",
     "status": "completed"
    },
    "tags": []
   },
   "outputs": [
    {
     "name": "stdout",
     "output_type": "stream",
     "text": [
      "Train dataset \n",
      " Index(['PassengerId', 'Survived', 'Pclass', 'Name', 'Sex', 'Age', 'SibSp',\n",
      "       'Parch', 'Ticket', 'Fare', 'Cabin', 'Embarked'],\n",
      "      dtype='object')\n",
      "Test dataset \n",
      " Index(['PassengerId', 'Pclass', 'Name', 'Sex', 'Age', 'SibSp', 'Parch',\n",
      "       'Ticket', 'Fare', 'Cabin', 'Embarked'],\n",
      "      dtype='object')\n"
     ]
    }
   ],
   "source": [
    "print('Train dataset \\n',train_df.columns)\n",
    "print('Test dataset \\n',test_df.columns)"
   ]
  },
  {
   "cell_type": "code",
   "execution_count": 4,
   "metadata": {
    "execution": {
     "iopub.execute_input": "2021-08-05T11:14:33.873286Z",
     "iopub.status.busy": "2021-08-05T11:14:33.872497Z",
     "iopub.status.idle": "2021-08-05T11:14:33.877200Z",
     "shell.execute_reply": "2021-08-05T11:14:33.876546Z",
     "shell.execute_reply.started": "2021-08-05T11:07:21.874018Z"
    },
    "papermill": {
     "duration": 0.078792,
     "end_time": "2021-08-05T11:14:33.877353",
     "exception": false,
     "start_time": "2021-08-05T11:14:33.798561",
     "status": "completed"
    },
    "tags": []
   },
   "outputs": [
    {
     "name": "stdout",
     "output_type": "stream",
     "text": [
      "<class 'pandas.core.frame.DataFrame'>\n",
      "RangeIndex: 891 entries, 0 to 890\n",
      "Data columns (total 12 columns):\n",
      " #   Column       Non-Null Count  Dtype  \n",
      "---  ------       --------------  -----  \n",
      " 0   PassengerId  891 non-null    int64  \n",
      " 1   Survived     891 non-null    int64  \n",
      " 2   Pclass       891 non-null    int64  \n",
      " 3   Name         891 non-null    object \n",
      " 4   Sex          891 non-null    object \n",
      " 5   Age          714 non-null    float64\n",
      " 6   SibSp        891 non-null    int64  \n",
      " 7   Parch        891 non-null    int64  \n",
      " 8   Ticket       891 non-null    object \n",
      " 9   Fare         891 non-null    float64\n",
      " 10  Cabin        204 non-null    object \n",
      " 11  Embarked     889 non-null    object \n",
      "dtypes: float64(2), int64(5), object(5)\n",
      "memory usage: 83.7+ KB\n"
     ]
    }
   ],
   "source": [
    "train_df.info()"
   ]
  },
  {
   "cell_type": "code",
   "execution_count": 5,
   "metadata": {
    "execution": {
     "iopub.execute_input": "2021-08-05T11:14:34.012441Z",
     "iopub.status.busy": "2021-08-05T11:14:34.011378Z",
     "iopub.status.idle": "2021-08-05T11:14:34.018024Z",
     "shell.execute_reply": "2021-08-05T11:14:34.017243Z",
     "shell.execute_reply.started": "2021-08-05T11:07:21.906654Z"
    },
    "papermill": {
     "duration": 0.084776,
     "end_time": "2021-08-05T11:14:34.018221",
     "exception": false,
     "start_time": "2021-08-05T11:14:33.933445",
     "status": "completed"
    },
    "tags": []
   },
   "outputs": [
    {
     "name": "stdout",
     "output_type": "stream",
     "text": [
      "<class 'pandas.core.frame.DataFrame'>\n",
      "RangeIndex: 418 entries, 0 to 417\n",
      "Data columns (total 11 columns):\n",
      " #   Column       Non-Null Count  Dtype  \n",
      "---  ------       --------------  -----  \n",
      " 0   PassengerId  418 non-null    int64  \n",
      " 1   Pclass       418 non-null    int64  \n",
      " 2   Name         418 non-null    object \n",
      " 3   Sex          418 non-null    object \n",
      " 4   Age          332 non-null    float64\n",
      " 5   SibSp        418 non-null    int64  \n",
      " 6   Parch        418 non-null    int64  \n",
      " 7   Ticket       418 non-null    object \n",
      " 8   Fare         417 non-null    float64\n",
      " 9   Cabin        91 non-null     object \n",
      " 10  Embarked     418 non-null    object \n",
      "dtypes: float64(2), int64(4), object(5)\n",
      "memory usage: 36.0+ KB\n"
     ]
    }
   ],
   "source": [
    "test_df.info()"
   ]
  },
  {
   "cell_type": "code",
   "execution_count": 6,
   "metadata": {
    "execution": {
     "iopub.execute_input": "2021-08-05T11:14:34.118847Z",
     "iopub.status.busy": "2021-08-05T11:14:34.118173Z",
     "iopub.status.idle": "2021-08-05T11:14:34.122884Z",
     "shell.execute_reply": "2021-08-05T11:14:34.122242Z",
     "shell.execute_reply.started": "2021-08-05T11:07:21.929616Z"
    },
    "papermill": {
     "duration": 0.05877,
     "end_time": "2021-08-05T11:14:34.123063",
     "exception": false,
     "start_time": "2021-08-05T11:14:34.064293",
     "status": "completed"
    },
    "tags": []
   },
   "outputs": [
    {
     "data": {
      "text/plain": [
       "(891, 12)"
      ]
     },
     "execution_count": 6,
     "metadata": {},
     "output_type": "execute_result"
    }
   ],
   "source": [
    "train_df.shape"
   ]
  },
  {
   "cell_type": "code",
   "execution_count": 7,
   "metadata": {
    "execution": {
     "iopub.execute_input": "2021-08-05T11:14:34.220069Z",
     "iopub.status.busy": "2021-08-05T11:14:34.219387Z",
     "iopub.status.idle": "2021-08-05T11:14:34.222352Z",
     "shell.execute_reply": "2021-08-05T11:14:34.222895Z",
     "shell.execute_reply.started": "2021-08-05T11:07:21.945781Z"
    },
    "papermill": {
     "duration": 0.054217,
     "end_time": "2021-08-05T11:14:34.223087",
     "exception": false,
     "start_time": "2021-08-05T11:14:34.168870",
     "status": "completed"
    },
    "tags": []
   },
   "outputs": [
    {
     "data": {
      "text/plain": [
       "(418, 11)"
      ]
     },
     "execution_count": 7,
     "metadata": {},
     "output_type": "execute_result"
    }
   ],
   "source": [
    "test_df.shape"
   ]
  },
  {
   "cell_type": "code",
   "execution_count": 8,
   "metadata": {
    "execution": {
     "iopub.execute_input": "2021-08-05T11:14:34.336309Z",
     "iopub.status.busy": "2021-08-05T11:14:34.335564Z",
     "iopub.status.idle": "2021-08-05T11:14:34.388415Z",
     "shell.execute_reply": "2021-08-05T11:14:34.387876Z",
     "shell.execute_reply.started": "2021-08-05T11:07:21.962100Z"
    },
    "papermill": {
     "duration": 0.116029,
     "end_time": "2021-08-05T11:14:34.388568",
     "exception": false,
     "start_time": "2021-08-05T11:14:34.272539",
     "status": "completed"
    },
    "tags": []
   },
   "outputs": [
    {
     "data": {
      "text/html": [
       "<div>\n",
       "<style scoped>\n",
       "    .dataframe tbody tr th:only-of-type {\n",
       "        vertical-align: middle;\n",
       "    }\n",
       "\n",
       "    .dataframe tbody tr th {\n",
       "        vertical-align: top;\n",
       "    }\n",
       "\n",
       "    .dataframe thead th {\n",
       "        text-align: right;\n",
       "    }\n",
       "</style>\n",
       "<table border=\"1\" class=\"dataframe\">\n",
       "  <thead>\n",
       "    <tr style=\"text-align: right;\">\n",
       "      <th></th>\n",
       "      <th>PassengerId</th>\n",
       "      <th>Survived</th>\n",
       "      <th>Pclass</th>\n",
       "      <th>Age</th>\n",
       "      <th>SibSp</th>\n",
       "      <th>Parch</th>\n",
       "      <th>Fare</th>\n",
       "    </tr>\n",
       "  </thead>\n",
       "  <tbody>\n",
       "    <tr>\n",
       "      <th>count</th>\n",
       "      <td>891.000000</td>\n",
       "      <td>891.000000</td>\n",
       "      <td>891.000000</td>\n",
       "      <td>714.000000</td>\n",
       "      <td>891.000000</td>\n",
       "      <td>891.000000</td>\n",
       "      <td>891.000000</td>\n",
       "    </tr>\n",
       "    <tr>\n",
       "      <th>mean</th>\n",
       "      <td>446.000000</td>\n",
       "      <td>0.383838</td>\n",
       "      <td>2.308642</td>\n",
       "      <td>29.699118</td>\n",
       "      <td>0.523008</td>\n",
       "      <td>0.381594</td>\n",
       "      <td>32.204208</td>\n",
       "    </tr>\n",
       "    <tr>\n",
       "      <th>std</th>\n",
       "      <td>257.353842</td>\n",
       "      <td>0.486592</td>\n",
       "      <td>0.836071</td>\n",
       "      <td>14.526497</td>\n",
       "      <td>1.102743</td>\n",
       "      <td>0.806057</td>\n",
       "      <td>49.693429</td>\n",
       "    </tr>\n",
       "    <tr>\n",
       "      <th>min</th>\n",
       "      <td>1.000000</td>\n",
       "      <td>0.000000</td>\n",
       "      <td>1.000000</td>\n",
       "      <td>0.420000</td>\n",
       "      <td>0.000000</td>\n",
       "      <td>0.000000</td>\n",
       "      <td>0.000000</td>\n",
       "    </tr>\n",
       "    <tr>\n",
       "      <th>25%</th>\n",
       "      <td>223.500000</td>\n",
       "      <td>0.000000</td>\n",
       "      <td>2.000000</td>\n",
       "      <td>20.125000</td>\n",
       "      <td>0.000000</td>\n",
       "      <td>0.000000</td>\n",
       "      <td>7.910400</td>\n",
       "    </tr>\n",
       "    <tr>\n",
       "      <th>50%</th>\n",
       "      <td>446.000000</td>\n",
       "      <td>0.000000</td>\n",
       "      <td>3.000000</td>\n",
       "      <td>28.000000</td>\n",
       "      <td>0.000000</td>\n",
       "      <td>0.000000</td>\n",
       "      <td>14.454200</td>\n",
       "    </tr>\n",
       "    <tr>\n",
       "      <th>75%</th>\n",
       "      <td>668.500000</td>\n",
       "      <td>1.000000</td>\n",
       "      <td>3.000000</td>\n",
       "      <td>38.000000</td>\n",
       "      <td>1.000000</td>\n",
       "      <td>0.000000</td>\n",
       "      <td>31.000000</td>\n",
       "    </tr>\n",
       "    <tr>\n",
       "      <th>max</th>\n",
       "      <td>891.000000</td>\n",
       "      <td>1.000000</td>\n",
       "      <td>3.000000</td>\n",
       "      <td>80.000000</td>\n",
       "      <td>8.000000</td>\n",
       "      <td>6.000000</td>\n",
       "      <td>512.329200</td>\n",
       "    </tr>\n",
       "  </tbody>\n",
       "</table>\n",
       "</div>"
      ],
      "text/plain": [
       "       PassengerId    Survived      Pclass         Age       SibSp  \\\n",
       "count   891.000000  891.000000  891.000000  714.000000  891.000000   \n",
       "mean    446.000000    0.383838    2.308642   29.699118    0.523008   \n",
       "std     257.353842    0.486592    0.836071   14.526497    1.102743   \n",
       "min       1.000000    0.000000    1.000000    0.420000    0.000000   \n",
       "25%     223.500000    0.000000    2.000000   20.125000    0.000000   \n",
       "50%     446.000000    0.000000    3.000000   28.000000    0.000000   \n",
       "75%     668.500000    1.000000    3.000000   38.000000    1.000000   \n",
       "max     891.000000    1.000000    3.000000   80.000000    8.000000   \n",
       "\n",
       "            Parch        Fare  \n",
       "count  891.000000  891.000000  \n",
       "mean     0.381594   32.204208  \n",
       "std      0.806057   49.693429  \n",
       "min      0.000000    0.000000  \n",
       "25%      0.000000    7.910400  \n",
       "50%      0.000000   14.454200  \n",
       "75%      0.000000   31.000000  \n",
       "max      6.000000  512.329200  "
      ]
     },
     "execution_count": 8,
     "metadata": {},
     "output_type": "execute_result"
    }
   ],
   "source": [
    "train_df.describe()"
   ]
  },
  {
   "cell_type": "code",
   "execution_count": 9,
   "metadata": {
    "execution": {
     "iopub.execute_input": "2021-08-05T11:14:34.504990Z",
     "iopub.status.busy": "2021-08-05T11:14:34.504080Z",
     "iopub.status.idle": "2021-08-05T11:14:34.509214Z",
     "shell.execute_reply": "2021-08-05T11:14:34.508676Z",
     "shell.execute_reply.started": "2021-08-05T11:07:22.014230Z"
    },
    "papermill": {
     "duration": 0.073933,
     "end_time": "2021-08-05T11:14:34.509381",
     "exception": false,
     "start_time": "2021-08-05T11:14:34.435448",
     "status": "completed"
    },
    "tags": []
   },
   "outputs": [
    {
     "data": {
      "text/html": [
       "<div>\n",
       "<style scoped>\n",
       "    .dataframe tbody tr th:only-of-type {\n",
       "        vertical-align: middle;\n",
       "    }\n",
       "\n",
       "    .dataframe tbody tr th {\n",
       "        vertical-align: top;\n",
       "    }\n",
       "\n",
       "    .dataframe thead th {\n",
       "        text-align: right;\n",
       "    }\n",
       "</style>\n",
       "<table border=\"1\" class=\"dataframe\">\n",
       "  <thead>\n",
       "    <tr style=\"text-align: right;\">\n",
       "      <th></th>\n",
       "      <th>PassengerId</th>\n",
       "      <th>Survived</th>\n",
       "      <th>Pclass</th>\n",
       "      <th>Name</th>\n",
       "      <th>Sex</th>\n",
       "      <th>Age</th>\n",
       "      <th>SibSp</th>\n",
       "      <th>Parch</th>\n",
       "      <th>Ticket</th>\n",
       "      <th>Fare</th>\n",
       "      <th>Cabin</th>\n",
       "      <th>Embarked</th>\n",
       "    </tr>\n",
       "  </thead>\n",
       "  <tbody>\n",
       "    <tr>\n",
       "      <th>730</th>\n",
       "      <td>731</td>\n",
       "      <td>1</td>\n",
       "      <td>1</td>\n",
       "      <td>Allen, Miss. Elisabeth Walton</td>\n",
       "      <td>female</td>\n",
       "      <td>29.0</td>\n",
       "      <td>0</td>\n",
       "      <td>0</td>\n",
       "      <td>24160</td>\n",
       "      <td>211.3375</td>\n",
       "      <td>B5</td>\n",
       "      <td>S</td>\n",
       "    </tr>\n",
       "    <tr>\n",
       "      <th>677</th>\n",
       "      <td>678</td>\n",
       "      <td>1</td>\n",
       "      <td>3</td>\n",
       "      <td>Turja, Miss. Anna Sofia</td>\n",
       "      <td>female</td>\n",
       "      <td>18.0</td>\n",
       "      <td>0</td>\n",
       "      <td>0</td>\n",
       "      <td>4138</td>\n",
       "      <td>9.8417</td>\n",
       "      <td>NaN</td>\n",
       "      <td>S</td>\n",
       "    </tr>\n",
       "    <tr>\n",
       "      <th>405</th>\n",
       "      <td>406</td>\n",
       "      <td>0</td>\n",
       "      <td>2</td>\n",
       "      <td>Gale, Mr. Shadrach</td>\n",
       "      <td>male</td>\n",
       "      <td>34.0</td>\n",
       "      <td>1</td>\n",
       "      <td>0</td>\n",
       "      <td>28664</td>\n",
       "      <td>21.0000</td>\n",
       "      <td>NaN</td>\n",
       "      <td>S</td>\n",
       "    </tr>\n",
       "    <tr>\n",
       "      <th>456</th>\n",
       "      <td>457</td>\n",
       "      <td>0</td>\n",
       "      <td>1</td>\n",
       "      <td>Millet, Mr. Francis Davis</td>\n",
       "      <td>male</td>\n",
       "      <td>65.0</td>\n",
       "      <td>0</td>\n",
       "      <td>0</td>\n",
       "      <td>13509</td>\n",
       "      <td>26.5500</td>\n",
       "      <td>E38</td>\n",
       "      <td>S</td>\n",
       "    </tr>\n",
       "    <tr>\n",
       "      <th>852</th>\n",
       "      <td>853</td>\n",
       "      <td>0</td>\n",
       "      <td>3</td>\n",
       "      <td>Boulos, Miss. Nourelain</td>\n",
       "      <td>female</td>\n",
       "      <td>9.0</td>\n",
       "      <td>1</td>\n",
       "      <td>1</td>\n",
       "      <td>2678</td>\n",
       "      <td>15.2458</td>\n",
       "      <td>NaN</td>\n",
       "      <td>C</td>\n",
       "    </tr>\n",
       "    <tr>\n",
       "      <th>152</th>\n",
       "      <td>153</td>\n",
       "      <td>0</td>\n",
       "      <td>3</td>\n",
       "      <td>Meo, Mr. Alfonzo</td>\n",
       "      <td>male</td>\n",
       "      <td>55.5</td>\n",
       "      <td>0</td>\n",
       "      <td>0</td>\n",
       "      <td>A.5. 11206</td>\n",
       "      <td>8.0500</td>\n",
       "      <td>NaN</td>\n",
       "      <td>S</td>\n",
       "    </tr>\n",
       "    <tr>\n",
       "      <th>577</th>\n",
       "      <td>578</td>\n",
       "      <td>1</td>\n",
       "      <td>1</td>\n",
       "      <td>Silvey, Mrs. William Baird (Alice Munger)</td>\n",
       "      <td>female</td>\n",
       "      <td>39.0</td>\n",
       "      <td>1</td>\n",
       "      <td>0</td>\n",
       "      <td>13507</td>\n",
       "      <td>55.9000</td>\n",
       "      <td>E44</td>\n",
       "      <td>S</td>\n",
       "    </tr>\n",
       "    <tr>\n",
       "      <th>461</th>\n",
       "      <td>462</td>\n",
       "      <td>0</td>\n",
       "      <td>3</td>\n",
       "      <td>Morley, Mr. William</td>\n",
       "      <td>male</td>\n",
       "      <td>34.0</td>\n",
       "      <td>0</td>\n",
       "      <td>0</td>\n",
       "      <td>364506</td>\n",
       "      <td>8.0500</td>\n",
       "      <td>NaN</td>\n",
       "      <td>S</td>\n",
       "    </tr>\n",
       "    <tr>\n",
       "      <th>311</th>\n",
       "      <td>312</td>\n",
       "      <td>1</td>\n",
       "      <td>1</td>\n",
       "      <td>Ryerson, Miss. Emily Borie</td>\n",
       "      <td>female</td>\n",
       "      <td>18.0</td>\n",
       "      <td>2</td>\n",
       "      <td>2</td>\n",
       "      <td>PC 17608</td>\n",
       "      <td>262.3750</td>\n",
       "      <td>B57 B59 B63 B66</td>\n",
       "      <td>C</td>\n",
       "    </tr>\n",
       "    <tr>\n",
       "      <th>610</th>\n",
       "      <td>611</td>\n",
       "      <td>0</td>\n",
       "      <td>3</td>\n",
       "      <td>Andersson, Mrs. Anders Johan (Alfrida Konstant...</td>\n",
       "      <td>female</td>\n",
       "      <td>39.0</td>\n",
       "      <td>1</td>\n",
       "      <td>5</td>\n",
       "      <td>347082</td>\n",
       "      <td>31.2750</td>\n",
       "      <td>NaN</td>\n",
       "      <td>S</td>\n",
       "    </tr>\n",
       "  </tbody>\n",
       "</table>\n",
       "</div>"
      ],
      "text/plain": [
       "     PassengerId  Survived  Pclass  \\\n",
       "730          731         1       1   \n",
       "677          678         1       3   \n",
       "405          406         0       2   \n",
       "456          457         0       1   \n",
       "852          853         0       3   \n",
       "152          153         0       3   \n",
       "577          578         1       1   \n",
       "461          462         0       3   \n",
       "311          312         1       1   \n",
       "610          611         0       3   \n",
       "\n",
       "                                                  Name     Sex   Age  SibSp  \\\n",
       "730                      Allen, Miss. Elisabeth Walton  female  29.0      0   \n",
       "677                            Turja, Miss. Anna Sofia  female  18.0      0   \n",
       "405                                 Gale, Mr. Shadrach    male  34.0      1   \n",
       "456                          Millet, Mr. Francis Davis    male  65.0      0   \n",
       "852                            Boulos, Miss. Nourelain  female   9.0      1   \n",
       "152                                   Meo, Mr. Alfonzo    male  55.5      0   \n",
       "577          Silvey, Mrs. William Baird (Alice Munger)  female  39.0      1   \n",
       "461                                Morley, Mr. William    male  34.0      0   \n",
       "311                         Ryerson, Miss. Emily Borie  female  18.0      2   \n",
       "610  Andersson, Mrs. Anders Johan (Alfrida Konstant...  female  39.0      1   \n",
       "\n",
       "     Parch      Ticket      Fare            Cabin Embarked  \n",
       "730      0       24160  211.3375               B5        S  \n",
       "677      0        4138    9.8417              NaN        S  \n",
       "405      0       28664   21.0000              NaN        S  \n",
       "456      0       13509   26.5500              E38        S  \n",
       "852      1        2678   15.2458              NaN        C  \n",
       "152      0  A.5. 11206    8.0500              NaN        S  \n",
       "577      0       13507   55.9000              E44        S  \n",
       "461      0      364506    8.0500              NaN        S  \n",
       "311      2    PC 17608  262.3750  B57 B59 B63 B66        C  \n",
       "610      5      347082   31.2750              NaN        S  "
      ]
     },
     "execution_count": 9,
     "metadata": {},
     "output_type": "execute_result"
    }
   ],
   "source": [
    "train_df.sample(10)"
   ]
  },
  {
   "cell_type": "code",
   "execution_count": 10,
   "metadata": {
    "execution": {
     "iopub.execute_input": "2021-08-05T11:14:34.612555Z",
     "iopub.status.busy": "2021-08-05T11:14:34.611701Z",
     "iopub.status.idle": "2021-08-05T11:14:34.616817Z",
     "shell.execute_reply": "2021-08-05T11:14:34.617462Z",
     "shell.execute_reply.started": "2021-08-05T11:07:22.040341Z"
    },
    "papermill": {
     "duration": 0.059553,
     "end_time": "2021-08-05T11:14:34.617643",
     "exception": false,
     "start_time": "2021-08-05T11:14:34.558090",
     "status": "completed"
    },
    "tags": []
   },
   "outputs": [
    {
     "name": "stdout",
     "output_type": "stream",
     "text": [
      "Train dataset wiht null values\n",
      " PassengerId      0\n",
      "Survived         0\n",
      "Pclass           0\n",
      "Name             0\n",
      "Sex              0\n",
      "Age            177\n",
      "SibSp            0\n",
      "Parch            0\n",
      "Ticket           0\n",
      "Fare             0\n",
      "Cabin          687\n",
      "Embarked         2\n",
      "dtype: int64\n"
     ]
    }
   ],
   "source": [
    "print('Train dataset wiht null values\\n', train_df.isnull().sum())"
   ]
  },
  {
   "cell_type": "code",
   "execution_count": 11,
   "metadata": {
    "execution": {
     "iopub.execute_input": "2021-08-05T11:14:34.721565Z",
     "iopub.status.busy": "2021-08-05T11:14:34.720627Z",
     "iopub.status.idle": "2021-08-05T11:14:34.725054Z",
     "shell.execute_reply": "2021-08-05T11:14:34.724202Z",
     "shell.execute_reply.started": "2021-08-05T11:07:22.054632Z"
    },
    "papermill": {
     "duration": 0.059564,
     "end_time": "2021-08-05T11:14:34.725253",
     "exception": false,
     "start_time": "2021-08-05T11:14:34.665689",
     "status": "completed"
    },
    "tags": []
   },
   "outputs": [
    {
     "name": "stdout",
     "output_type": "stream",
     "text": [
      "Test dataset wiht null values\n",
      " PassengerId      0\n",
      "Pclass           0\n",
      "Name             0\n",
      "Sex              0\n",
      "Age             86\n",
      "SibSp            0\n",
      "Parch            0\n",
      "Ticket           0\n",
      "Fare             1\n",
      "Cabin          327\n",
      "Embarked         0\n",
      "dtype: int64\n"
     ]
    }
   ],
   "source": [
    "print('Test dataset wiht null values\\n',test_df.isnull().sum())"
   ]
  },
  {
   "cell_type": "code",
   "execution_count": 12,
   "metadata": {
    "execution": {
     "iopub.execute_input": "2021-08-05T11:14:34.832007Z",
     "iopub.status.busy": "2021-08-05T11:14:34.831164Z",
     "iopub.status.idle": "2021-08-05T11:14:35.035133Z",
     "shell.execute_reply": "2021-08-05T11:14:35.033934Z",
     "shell.execute_reply.started": "2021-08-05T11:07:22.071278Z"
    },
    "papermill": {
     "duration": 0.259358,
     "end_time": "2021-08-05T11:14:35.035304",
     "exception": false,
     "start_time": "2021-08-05T11:14:34.775946",
     "status": "completed"
    },
    "tags": []
   },
   "outputs": [
    {
     "data": {
      "text/plain": [
       "<AxesSubplot:>"
      ]
     },
     "execution_count": 12,
     "metadata": {},
     "output_type": "execute_result"
    },
    {
     "data": {
      "image/png": "[encoded data removed]",
      "text/plain": [
       "<Figure size 432x288 with 1 Axes>"
      ]
     },
     "metadata": {
      "needs_background": "light"
     },
     "output_type": "display_data"
    }
   ],
   "source": [
    "sn.heatmap(train_df.isnull(),yticklabels=False,cbar=False)"
   ]
  },
  {
   "cell_type": "code",
   "execution_count": 13,
   "metadata": {
    "execution": {
     "iopub.execute_input": "2021-08-05T11:14:35.143814Z",
     "iopub.status.busy": "2021-08-05T11:14:35.142884Z",
     "iopub.status.idle": "2021-08-05T11:14:35.146451Z",
     "shell.execute_reply": "2021-08-05T11:14:35.145790Z",
     "shell.execute_reply.started": "2021-08-05T11:07:22.288743Z"
    },
    "papermill": {
     "duration": 0.06142,
     "end_time": "2021-08-05T11:14:35.146601",
     "exception": false,
     "start_time": "2021-08-05T11:14:35.085181",
     "status": "completed"
    },
    "tags": []
   },
   "outputs": [],
   "source": [
    "train_df.drop(['Age', 'Cabin'],axis=1,inplace=True)\n",
    "test_df.drop(['Age', 'Cabin'],axis=1,inplace=True)"
   ]
  },
  {
   "cell_type": "code",
   "execution_count": 14,
   "metadata": {
    "execution": {
     "iopub.execute_input": "2021-08-05T11:14:35.248241Z",
     "iopub.status.busy": "2021-08-05T11:14:35.247582Z",
     "iopub.status.idle": "2021-08-05T11:14:35.255376Z",
     "shell.execute_reply": "2021-08-05T11:14:35.254811Z",
     "shell.execute_reply.started": "2021-08-05T11:07:22.298997Z"
    },
    "papermill": {
     "duration": 0.058955,
     "end_time": "2021-08-05T11:14:35.255533",
     "exception": false,
     "start_time": "2021-08-05T11:14:35.196578",
     "status": "completed"
    },
    "tags": []
   },
   "outputs": [],
   "source": [
    "train_df['Embarked'].fillna(train_df['Embarked'].mode()[0], inplace = True)\n",
    "    \n",
    "test_df['Embarked'].fillna(test_df['Embarked'].mode()[0], inplace = True)    "
   ]
  },
  {
   "cell_type": "code",
   "execution_count": 15,
   "metadata": {
    "execution": {
     "iopub.execute_input": "2021-08-05T11:14:35.364805Z",
     "iopub.status.busy": "2021-08-05T11:14:35.363855Z",
     "iopub.status.idle": "2021-08-05T11:14:35.367664Z",
     "shell.execute_reply": "2021-08-05T11:14:35.368404Z",
     "shell.execute_reply.started": "2021-08-05T11:07:22.312976Z"
    },
    "papermill": {
     "duration": 0.06451,
     "end_time": "2021-08-05T11:14:35.368637",
     "exception": false,
     "start_time": "2021-08-05T11:14:35.304127",
     "status": "completed"
    },
    "tags": []
   },
   "outputs": [
    {
     "name": "stdout",
     "output_type": "stream",
     "text": [
      "train_df \n",
      " PassengerId    0\n",
      "Survived       0\n",
      "Pclass         0\n",
      "Name           0\n",
      "Sex            0\n",
      "SibSp          0\n",
      "Parch          0\n",
      "Ticket         0\n",
      "Fare           0\n",
      "Embarked       0\n",
      "dtype: int64\n",
      "******************\n",
      "test_df \n",
      " PassengerId    0\n",
      "Pclass         0\n",
      "Name           0\n",
      "Sex            0\n",
      "SibSp          0\n",
      "Parch          0\n",
      "Ticket         0\n",
      "Fare           1\n",
      "Embarked       0\n",
      "dtype: int64\n"
     ]
    }
   ],
   "source": [
    "print (\"train_df \\n\", train_df.isnull().sum())\n",
    "print(\"*\"*18)\n",
    "print (\"test_df \\n\", test_df.isnull().sum())"
   ]
  },
  {
   "cell_type": "code",
   "execution_count": 16,
   "metadata": {
    "execution": {
     "iopub.execute_input": "2021-08-05T11:14:35.476390Z",
     "iopub.status.busy": "2021-08-05T11:14:35.475281Z",
     "iopub.status.idle": "2021-08-05T11:14:35.478524Z",
     "shell.execute_reply": "2021-08-05T11:14:35.478016Z",
     "shell.execute_reply.started": "2021-08-05T11:07:22.332396Z"
    },
    "papermill": {
     "duration": 0.060249,
     "end_time": "2021-08-05T11:14:35.478671",
     "exception": false,
     "start_time": "2021-08-05T11:14:35.418422",
     "status": "completed"
    },
    "tags": []
   },
   "outputs": [],
   "source": [
    "drop_column = ['PassengerId','Fare', 'Ticket','Name']\n",
    "train_df.drop(drop_column, axis=1, inplace = True)\n",
    "test_df.drop(drop_column, axis=1, inplace = True)"
   ]
  },
  {
   "cell_type": "code",
   "execution_count": 17,
   "metadata": {
    "execution": {
     "iopub.execute_input": "2021-08-05T11:14:35.599912Z",
     "iopub.status.busy": "2021-08-05T11:14:35.598811Z",
     "iopub.status.idle": "2021-08-05T11:14:35.603320Z",
     "shell.execute_reply": "2021-08-05T11:14:35.604191Z",
     "shell.execute_reply.started": "2021-08-05T11:07:22.345113Z"
    },
    "papermill": {
     "duration": 0.07394,
     "end_time": "2021-08-05T11:14:35.604389",
     "exception": false,
     "start_time": "2021-08-05T11:14:35.530449",
     "status": "completed"
    },
    "tags": []
   },
   "outputs": [
    {
     "name": "stdout",
     "output_type": "stream",
     "text": [
      "Train dataset \n",
      " Index(['Survived', 'Pclass', 'Sex', 'SibSp', 'Parch', 'Embarked'], dtype='object')\n",
      "Test dataset \n",
      " Index(['Pclass', 'Sex', 'SibSp', 'Parch', 'Embarked'], dtype='object')\n"
     ]
    }
   ],
   "source": [
    "print('Train dataset \\n',train_df.columns)\n",
    "print('Test dataset \\n',test_df.columns)"
   ]
  },
  {
   "cell_type": "code",
   "execution_count": 18,
   "metadata": {
    "execution": {
     "iopub.execute_input": "2021-08-05T11:14:35.717526Z",
     "iopub.status.busy": "2021-08-05T11:14:35.716672Z",
     "iopub.status.idle": "2021-08-05T11:14:35.720573Z",
     "shell.execute_reply": "2021-08-05T11:14:35.719948Z",
     "shell.execute_reply.started": "2021-08-05T11:07:22.359726Z"
    },
    "papermill": {
     "duration": 0.061178,
     "end_time": "2021-08-05T11:14:35.720716",
     "exception": false,
     "start_time": "2021-08-05T11:14:35.659538",
     "status": "completed"
    },
    "tags": []
   },
   "outputs": [
    {
     "data": {
      "text/plain": [
       "0      S\n",
       "1      C\n",
       "2      S\n",
       "3      S\n",
       "4      S\n",
       "      ..\n",
       "886    S\n",
       "887    S\n",
       "888    S\n",
       "889    C\n",
       "890    Q\n",
       "Name: Embarked, Length: 891, dtype: object"
      ]
     },
     "execution_count": 18,
     "metadata": {},
     "output_type": "execute_result"
    }
   ],
   "source": [
    "train_df.Embarked"
   ]
  },
  {
   "cell_type": "code",
   "execution_count": 19,
   "metadata": {
    "execution": {
     "iopub.execute_input": "2021-08-05T11:14:35.825958Z",
     "iopub.status.busy": "2021-08-05T11:14:35.825254Z",
     "iopub.status.idle": "2021-08-05T11:14:35.833082Z",
     "shell.execute_reply": "2021-08-05T11:14:35.833580Z",
     "shell.execute_reply.started": "2021-08-05T11:07:22.378009Z"
    },
    "papermill": {
     "duration": 0.062863,
     "end_time": "2021-08-05T11:14:35.833774",
     "exception": false,
     "start_time": "2021-08-05T11:14:35.770911",
     "status": "completed"
    },
    "tags": []
   },
   "outputs": [],
   "source": [
    "train_df['Embarked'] = train_df['Embarked'].map( {'S': 0, 'C': 1, 'Q': 2} ).astype(int)\n",
    "test_df['Embarked'] = test_df['Embarked'].map( {'S': 0, 'C': 1, 'Q': 2} ).astype(int)\n"
   ]
  },
  {
   "cell_type": "code",
   "execution_count": 20,
   "metadata": {
    "execution": {
     "iopub.execute_input": "2021-08-05T11:14:35.939372Z",
     "iopub.status.busy": "2021-08-05T11:14:35.938647Z",
     "iopub.status.idle": "2021-08-05T11:14:35.947471Z",
     "shell.execute_reply": "2021-08-05T11:14:35.946745Z",
     "shell.execute_reply.started": "2021-08-05T11:07:22.392291Z"
    },
    "papermill": {
     "duration": 0.062965,
     "end_time": "2021-08-05T11:14:35.947628",
     "exception": false,
     "start_time": "2021-08-05T11:14:35.884663",
     "status": "completed"
    },
    "tags": []
   },
   "outputs": [],
   "source": [
    "train_df['Sex'] = train_df['Sex'].map( {'female': 1, 'male': 0} ).astype(int)\n",
    "test_df['Sex'] = test_df['Sex'].map( {'female': 1, 'male': 0} ).astype(int)"
   ]
  },
  {
   "cell_type": "code",
   "execution_count": 21,
   "metadata": {
    "execution": {
     "iopub.execute_input": "2021-08-05T11:14:36.057310Z",
     "iopub.status.busy": "2021-08-05T11:14:36.056246Z",
     "iopub.status.idle": "2021-08-05T11:14:36.060496Z",
     "shell.execute_reply": "2021-08-05T11:14:36.059829Z",
     "shell.execute_reply.started": "2021-08-05T11:07:22.413412Z"
    },
    "papermill": {
     "duration": 0.06074,
     "end_time": "2021-08-05T11:14:36.060645",
     "exception": false,
     "start_time": "2021-08-05T11:14:35.999905",
     "status": "completed"
    },
    "tags": []
   },
   "outputs": [
    {
     "data": {
      "text/plain": [
       "0      0\n",
       "1      0\n",
       "2      0\n",
       "3      0\n",
       "4      0\n",
       "      ..\n",
       "886    0\n",
       "887    0\n",
       "888    2\n",
       "889    0\n",
       "890    0\n",
       "Name: Parch, Length: 891, dtype: int64"
      ]
     },
     "execution_count": 21,
     "metadata": {},
     "output_type": "execute_result"
    }
   ],
   "source": [
    "train_df.Parch"
   ]
  },
  {
   "cell_type": "code",
   "execution_count": 22,
   "metadata": {
    "execution": {
     "iopub.execute_input": "2021-08-05T11:14:36.167295Z",
     "iopub.status.busy": "2021-08-05T11:14:36.166578Z",
     "iopub.status.idle": "2021-08-05T11:14:36.183523Z",
     "shell.execute_reply": "2021-08-05T11:14:36.182843Z",
     "shell.execute_reply.started": "2021-08-05T11:07:22.428470Z"
    },
    "papermill": {
     "duration": 0.070037,
     "end_time": "2021-08-05T11:14:36.183666",
     "exception": false,
     "start_time": "2021-08-05T11:14:36.113629",
     "status": "completed"
    },
    "tags": []
   },
   "outputs": [
    {
     "data": {
      "text/html": [
       "<div>\n",
       "<style scoped>\n",
       "    .dataframe tbody tr th:only-of-type {\n",
       "        vertical-align: middle;\n",
       "    }\n",
       "\n",
       "    .dataframe tbody tr th {\n",
       "        vertical-align: top;\n",
       "    }\n",
       "\n",
       "    .dataframe thead th {\n",
       "        text-align: right;\n",
       "    }\n",
       "</style>\n",
       "<table border=\"1\" class=\"dataframe\">\n",
       "  <thead>\n",
       "    <tr style=\"text-align: right;\">\n",
       "      <th></th>\n",
       "      <th>Sex</th>\n",
       "      <th>Survived</th>\n",
       "    </tr>\n",
       "  </thead>\n",
       "  <tbody>\n",
       "    <tr>\n",
       "      <th>1</th>\n",
       "      <td>1</td>\n",
       "      <td>0.742038</td>\n",
       "    </tr>\n",
       "    <tr>\n",
       "      <th>0</th>\n",
       "      <td>0</td>\n",
       "      <td>0.188908</td>\n",
       "    </tr>\n",
       "  </tbody>\n",
       "</table>\n",
       "</div>"
      ],
      "text/plain": [
       "   Sex  Survived\n",
       "1    1  0.742038\n",
       "0    0  0.188908"
      ]
     },
     "execution_count": 22,
     "metadata": {},
     "output_type": "execute_result"
    }
   ],
   "source": [
    "train_df[['Sex', 'Survived']].groupby(['Sex'], as_index=False).mean().sort_values(by='Survived', ascending=False)"
   ]
  },
  {
   "cell_type": "code",
   "execution_count": 23,
   "metadata": {
    "execution": {
     "iopub.execute_input": "2021-08-05T11:14:36.294527Z",
     "iopub.status.busy": "2021-08-05T11:14:36.292784Z",
     "iopub.status.idle": "2021-08-05T11:14:36.305893Z",
     "shell.execute_reply": "2021-08-05T11:14:36.305331Z",
     "shell.execute_reply.started": "2021-08-05T11:07:22.452162Z"
    },
    "papermill": {
     "duration": 0.071583,
     "end_time": "2021-08-05T11:14:36.306093",
     "exception": false,
     "start_time": "2021-08-05T11:14:36.234510",
     "status": "completed"
    },
    "tags": []
   },
   "outputs": [
    {
     "data": {
      "text/html": [
       "<div>\n",
       "<style scoped>\n",
       "    .dataframe tbody tr th:only-of-type {\n",
       "        vertical-align: middle;\n",
       "    }\n",
       "\n",
       "    .dataframe tbody tr th {\n",
       "        vertical-align: top;\n",
       "    }\n",
       "\n",
       "    .dataframe thead th {\n",
       "        text-align: right;\n",
       "    }\n",
       "</style>\n",
       "<table border=\"1\" class=\"dataframe\">\n",
       "  <thead>\n",
       "    <tr style=\"text-align: right;\">\n",
       "      <th></th>\n",
       "      <th>Parch</th>\n",
       "      <th>Survived</th>\n",
       "    </tr>\n",
       "  </thead>\n",
       "  <tbody>\n",
       "    <tr>\n",
       "      <th>3</th>\n",
       "      <td>3</td>\n",
       "      <td>0.600000</td>\n",
       "    </tr>\n",
       "    <tr>\n",
       "      <th>1</th>\n",
       "      <td>1</td>\n",
       "      <td>0.550847</td>\n",
       "    </tr>\n",
       "    <tr>\n",
       "      <th>2</th>\n",
       "      <td>2</td>\n",
       "      <td>0.500000</td>\n",
       "    </tr>\n",
       "    <tr>\n",
       "      <th>0</th>\n",
       "      <td>0</td>\n",
       "      <td>0.343658</td>\n",
       "    </tr>\n",
       "    <tr>\n",
       "      <th>5</th>\n",
       "      <td>5</td>\n",
       "      <td>0.200000</td>\n",
       "    </tr>\n",
       "    <tr>\n",
       "      <th>4</th>\n",
       "      <td>4</td>\n",
       "      <td>0.000000</td>\n",
       "    </tr>\n",
       "    <tr>\n",
       "      <th>6</th>\n",
       "      <td>6</td>\n",
       "      <td>0.000000</td>\n",
       "    </tr>\n",
       "  </tbody>\n",
       "</table>\n",
       "</div>"
      ],
      "text/plain": [
       "   Parch  Survived\n",
       "3      3  0.600000\n",
       "1      1  0.550847\n",
       "2      2  0.500000\n",
       "0      0  0.343658\n",
       "5      5  0.200000\n",
       "4      4  0.000000\n",
       "6      6  0.000000"
      ]
     },
     "execution_count": 23,
     "metadata": {},
     "output_type": "execute_result"
    }
   ],
   "source": [
    "train_df[['Parch', 'Survived']].groupby(['Parch'], as_index=False).mean().sort_values(by='Survived', ascending=False)"
   ]
  },
  {
   "cell_type": "code",
   "execution_count": 24,
   "metadata": {
    "execution": {
     "iopub.execute_input": "2021-08-05T11:14:36.432249Z",
     "iopub.status.busy": "2021-08-05T11:14:36.431569Z",
     "iopub.status.idle": "2021-08-05T11:14:36.435561Z",
     "shell.execute_reply": "2021-08-05T11:14:36.435018Z",
     "shell.execute_reply.started": "2021-08-05T11:07:22.473286Z"
    },
    "papermill": {
     "duration": 0.07388,
     "end_time": "2021-08-05T11:14:36.435706",
     "exception": false,
     "start_time": "2021-08-05T11:14:36.361826",
     "status": "completed"
    },
    "tags": []
   },
   "outputs": [
    {
     "data": {
      "text/html": [
       "<div>\n",
       "<style scoped>\n",
       "    .dataframe tbody tr th:only-of-type {\n",
       "        vertical-align: middle;\n",
       "    }\n",
       "\n",
       "    .dataframe tbody tr th {\n",
       "        vertical-align: top;\n",
       "    }\n",
       "\n",
       "    .dataframe thead th {\n",
       "        text-align: right;\n",
       "    }\n",
       "</style>\n",
       "<table border=\"1\" class=\"dataframe\">\n",
       "  <thead>\n",
       "    <tr style=\"text-align: right;\">\n",
       "      <th></th>\n",
       "      <th>SibSp</th>\n",
       "      <th>Survived</th>\n",
       "    </tr>\n",
       "  </thead>\n",
       "  <tbody>\n",
       "    <tr>\n",
       "      <th>1</th>\n",
       "      <td>1</td>\n",
       "      <td>0.535885</td>\n",
       "    </tr>\n",
       "    <tr>\n",
       "      <th>2</th>\n",
       "      <td>2</td>\n",
       "      <td>0.464286</td>\n",
       "    </tr>\n",
       "    <tr>\n",
       "      <th>0</th>\n",
       "      <td>0</td>\n",
       "      <td>0.345395</td>\n",
       "    </tr>\n",
       "    <tr>\n",
       "      <th>3</th>\n",
       "      <td>3</td>\n",
       "      <td>0.250000</td>\n",
       "    </tr>\n",
       "    <tr>\n",
       "      <th>4</th>\n",
       "      <td>4</td>\n",
       "      <td>0.166667</td>\n",
       "    </tr>\n",
       "    <tr>\n",
       "      <th>5</th>\n",
       "      <td>5</td>\n",
       "      <td>0.000000</td>\n",
       "    </tr>\n",
       "    <tr>\n",
       "      <th>6</th>\n",
       "      <td>8</td>\n",
       "      <td>0.000000</td>\n",
       "    </tr>\n",
       "  </tbody>\n",
       "</table>\n",
       "</div>"
      ],
      "text/plain": [
       "   SibSp  Survived\n",
       "1      1  0.535885\n",
       "2      2  0.464286\n",
       "0      0  0.345395\n",
       "3      3  0.250000\n",
       "4      4  0.166667\n",
       "5      5  0.000000\n",
       "6      8  0.000000"
      ]
     },
     "execution_count": 24,
     "metadata": {},
     "output_type": "execute_result"
    }
   ],
   "source": [
    "train_df[['SibSp', 'Survived']].groupby(['SibSp'], as_index=False).mean().sort_values(by='Survived', ascending=False)"
   ]
  },
  {
   "cell_type": "code",
   "execution_count": 25,
   "metadata": {
    "execution": {
     "iopub.execute_input": "2021-08-05T11:14:36.542977Z",
     "iopub.status.busy": "2021-08-05T11:14:36.542271Z",
     "iopub.status.idle": "2021-08-05T11:14:36.765676Z",
     "shell.execute_reply": "2021-08-05T11:14:36.766168Z",
     "shell.execute_reply.started": "2021-08-05T11:07:22.493152Z"
    },
    "papermill": {
     "duration": 0.278597,
     "end_time": "2021-08-05T11:14:36.766374",
     "exception": false,
     "start_time": "2021-08-05T11:14:36.487777",
     "status": "completed"
    },
    "tags": []
   },
   "outputs": [
    {
     "data": {
      "text/plain": [
       "<AxesSubplot:xlabel='Sex', ylabel='Survived'>"
      ]
     },
     "execution_count": 25,
     "metadata": {},
     "output_type": "execute_result"
    },
    {
     "data": {
      "image/png": "[encoded data removed]",
      "text/plain": [
       "<Figure size 432x288 with 1 Axes>"
      ]
     },
     "metadata": {
      "needs_background": "light"
     },
     "output_type": "display_data"
    }
   ],
   "source": [
    " sn.barplot(x=\"Sex\", y=\"Survived\",palette=\"ch:.25\",  data= train_df)"
   ]
  },
  {
   "cell_type": "code",
   "execution_count": 26,
   "metadata": {
    "execution": {
     "iopub.execute_input": "2021-08-05T11:14:36.876687Z",
     "iopub.status.busy": "2021-08-05T11:14:36.875817Z",
     "iopub.status.idle": "2021-08-05T11:14:37.296021Z",
     "shell.execute_reply": "2021-08-05T11:14:37.295452Z",
     "shell.execute_reply.started": "2021-08-05T11:07:22.711596Z"
    },
    "papermill": {
     "duration": 0.475782,
     "end_time": "2021-08-05T11:14:37.296182",
     "exception": false,
     "start_time": "2021-08-05T11:14:36.820400",
     "status": "completed"
    },
    "tags": []
   },
   "outputs": [
    {
     "data": {
      "text/plain": [
       "<AxesSubplot:xlabel='Sex', ylabel='Survived'>"
      ]
     },
     "execution_count": 26,
     "metadata": {},
     "output_type": "execute_result"
    },
    {
     "data": {
      "image/png": "[encoded data removed]",
      "text/plain": [
       "<Figure size 432x288 with 1 Axes>"
      ]
     },
     "metadata": {
      "needs_background": "light"
     },
     "output_type": "display_data"
    }
   ],
   "source": [
    " sn.barplot(x=\"Sex\", y=\"Survived\", hue = 'Pclass',palette=\"ch:.25\",  data= train_df)"
   ]
  },
  {
   "cell_type": "code",
   "execution_count": 27,
   "metadata": {
    "execution": {
     "iopub.execute_input": "2021-08-05T11:14:37.413768Z",
     "iopub.status.busy": "2021-08-05T11:14:37.412649Z",
     "iopub.status.idle": "2021-08-05T11:14:37.814791Z",
     "shell.execute_reply": "2021-08-05T11:14:37.814229Z",
     "shell.execute_reply.started": "2021-08-05T11:07:23.106884Z"
    },
    "papermill": {
     "duration": 0.464585,
     "end_time": "2021-08-05T11:14:37.814975",
     "exception": false,
     "start_time": "2021-08-05T11:14:37.350390",
     "status": "completed"
    },
    "tags": []
   },
   "outputs": [
    {
     "data": {
      "text/plain": [
       "<AxesSubplot:xlabel='Sex', ylabel='Survived'>"
      ]
     },
     "execution_count": 27,
     "metadata": {},
     "output_type": "execute_result"
    },
    {
     "data": {
      "image/png": "[encoded data removed]",
      "text/plain": [
       "<Figure size 432x288 with 1 Axes>"
      ]
     },
     "metadata": {
      "needs_background": "light"
     },
     "output_type": "display_data"
    }
   ],
   "source": [
    " sn.barplot(x=\"Sex\", y=\"Survived\", hue = 'Embarked',palette=\"ch:.25\",  data= train_df)"
   ]
  },
  {
   "cell_type": "code",
   "execution_count": 28,
   "metadata": {
    "execution": {
     "iopub.execute_input": "2021-08-05T11:14:37.931698Z",
     "iopub.status.busy": "2021-08-05T11:14:37.930818Z",
     "iopub.status.idle": "2021-08-05T11:14:38.328571Z",
     "shell.execute_reply": "2021-08-05T11:14:38.327904Z",
     "shell.execute_reply.started": "2021-08-05T11:07:23.482894Z"
    },
    "papermill": {
     "duration": 0.45944,
     "end_time": "2021-08-05T11:14:38.328724",
     "exception": false,
     "start_time": "2021-08-05T11:14:37.869284",
     "status": "completed"
    },
    "tags": []
   },
   "outputs": [
    {
     "data": {
      "text/plain": [
       "<AxesSubplot:xlabel='Sex', ylabel='Survived'>"
      ]
     },
     "execution_count": 28,
     "metadata": {},
     "output_type": "execute_result"
    },
    {
     "data": {
      "image/png": "[encoded data removed]",
      "text/plain": [
       "<Figure size 432x288 with 1 Axes>"
      ]
     },
     "metadata": {
      "needs_background": "light"
     },
     "output_type": "display_data"
    }
   ],
   "source": [
    " sn.barplot(x=\"Sex\", y=\"Survived\", hue = 'Embarked',palette=\"ch:.25\",  data= train_df)"
   ]
  },
  {
   "cell_type": "code",
   "execution_count": 29,
   "metadata": {
    "execution": {
     "iopub.execute_input": "2021-08-05T11:14:38.446502Z",
     "iopub.status.busy": "2021-08-05T11:14:38.445793Z",
     "iopub.status.idle": "2021-08-05T11:14:38.449356Z",
     "shell.execute_reply": "2021-08-05T11:14:38.449836Z",
     "shell.execute_reply.started": "2021-08-05T11:07:23.864727Z"
    },
    "papermill": {
     "duration": 0.064151,
     "end_time": "2021-08-05T11:14:38.450025",
     "exception": false,
     "start_time": "2021-08-05T11:14:38.385874",
     "status": "completed"
    },
    "tags": []
   },
   "outputs": [
    {
     "data": {
      "text/plain": [
       "Index(['Survived', 'Pclass', 'Sex', 'SibSp', 'Parch', 'Embarked'], dtype='object')"
      ]
     },
     "execution_count": 29,
     "metadata": {},
     "output_type": "execute_result"
    }
   ],
   "source": [
    "train_df.columns"
   ]
  },
  {
   "cell_type": "code",
   "execution_count": 30,
   "metadata": {
    "execution": {
     "iopub.execute_input": "2021-08-05T11:14:38.566130Z",
     "iopub.status.busy": "2021-08-05T11:14:38.565509Z",
     "iopub.status.idle": "2021-08-05T11:14:39.045108Z",
     "shell.execute_reply": "2021-08-05T11:14:39.044438Z",
     "shell.execute_reply.started": "2021-08-05T11:07:23.873111Z"
    },
    "papermill": {
     "duration": 0.539082,
     "end_time": "2021-08-05T11:14:39.045273",
     "exception": false,
     "start_time": "2021-08-05T11:14:38.506191",
     "status": "completed"
    },
    "tags": []
   },
   "outputs": [
    {
     "data": {
      "text/plain": [
       "<AxesSubplot:>"
      ]
     },
     "execution_count": 30,
     "metadata": {},
     "output_type": "execute_result"
    },
    {
     "data": {
      "image/png": "[encoded data removed]",
      "text/plain": [
       "<Figure size 432x288 with 2 Axes>"
      ]
     },
     "metadata": {
      "needs_background": "light"
     },
     "output_type": "display_data"
    }
   ],
   "source": [
    "cmap = sn.diverging_palette(220,10,as_cmap = True)\n",
    "sn.heatmap(train_df[['Survived', 'Pclass', 'Sex', 'SibSp', 'Parch',\n",
    "       'Embarked']].corr(),vmax =.3, center = 0, cmap=cmap, square =True,annot = True , linewidths =.5, cbar_kws={\"shrink\":.9})"
   ]
  },
  {
   "cell_type": "code",
   "execution_count": 31,
   "metadata": {
    "execution": {
     "iopub.execute_input": "2021-08-05T11:14:39.176887Z",
     "iopub.status.busy": "2021-08-05T11:14:39.176046Z",
     "iopub.status.idle": "2021-08-05T11:14:39.179254Z",
     "shell.execute_reply": "2021-08-05T11:14:39.179746Z",
     "shell.execute_reply.started": "2021-08-05T11:07:24.328614Z"
    },
    "papermill": {
     "duration": 0.073797,
     "end_time": "2021-08-05T11:14:39.179944",
     "exception": false,
     "start_time": "2021-08-05T11:14:39.106147",
     "status": "completed"
    },
    "tags": []
   },
   "outputs": [
    {
     "name": "stdout",
     "output_type": "stream",
     "text": [
      "<class 'pandas.core.frame.DataFrame'>\n",
      "RangeIndex: 891 entries, 0 to 890\n",
      "Data columns (total 6 columns):\n",
      " #   Column    Non-Null Count  Dtype\n",
      "---  ------    --------------  -----\n",
      " 0   Survived  891 non-null    int64\n",
      " 1   Pclass    891 non-null    int64\n",
      " 2   Sex       891 non-null    int64\n",
      " 3   SibSp     891 non-null    int64\n",
      " 4   Parch     891 non-null    int64\n",
      " 5   Embarked  891 non-null    int64\n",
      "dtypes: int64(6)\n",
      "memory usage: 41.9 KB\n"
     ]
    }
   ],
   "source": [
    "train_df.info()"
   ]
  },
  {
   "cell_type": "code",
   "execution_count": 32,
   "metadata": {
    "execution": {
     "iopub.execute_input": "2021-08-05T11:14:39.302338Z",
     "iopub.status.busy": "2021-08-05T11:14:39.301293Z",
     "iopub.status.idle": "2021-08-05T11:14:39.305864Z",
     "shell.execute_reply": "2021-08-05T11:14:39.305232Z",
     "shell.execute_reply.started": "2021-08-05T11:07:24.344085Z"
    },
    "papermill": {
     "duration": 0.067141,
     "end_time": "2021-08-05T11:14:39.306026",
     "exception": false,
     "start_time": "2021-08-05T11:14:39.238885",
     "status": "completed"
    },
    "tags": []
   },
   "outputs": [
    {
     "data": {
      "text/plain": [
       "Index(['Survived', 'Pclass', 'Sex', 'SibSp', 'Parch', 'Embarked'], dtype='object')"
      ]
     },
     "execution_count": 32,
     "metadata": {},
     "output_type": "execute_result"
    }
   ],
   "source": [
    "train_df.columns"
   ]
  },
  {
   "cell_type": "code",
   "execution_count": 33,
   "metadata": {
    "execution": {
     "iopub.execute_input": "2021-08-05T11:14:39.428220Z",
     "iopub.status.busy": "2021-08-05T11:14:39.427299Z",
     "iopub.status.idle": "2021-08-05T11:14:39.431717Z",
     "shell.execute_reply": "2021-08-05T11:14:39.431170Z",
     "shell.execute_reply.started": "2021-08-05T11:07:24.357837Z"
    },
    "papermill": {
     "duration": 0.067745,
     "end_time": "2021-08-05T11:14:39.431858",
     "exception": false,
     "start_time": "2021-08-05T11:14:39.364113",
     "status": "completed"
    },
    "tags": []
   },
   "outputs": [
    {
     "data": {
      "text/plain": [
       "Index(['Pclass', 'Sex', 'SibSp', 'Parch', 'Embarked'], dtype='object')"
      ]
     },
     "execution_count": 33,
     "metadata": {},
     "output_type": "execute_result"
    }
   ],
   "source": [
    "test_df.columns"
   ]
  },
  {
   "cell_type": "code",
   "execution_count": 34,
   "metadata": {
    "execution": {
     "iopub.execute_input": "2021-08-05T11:14:39.559946Z",
     "iopub.status.busy": "2021-08-05T11:14:39.559045Z",
     "iopub.status.idle": "2021-08-05T11:14:39.564021Z",
     "shell.execute_reply": "2021-08-05T11:14:39.563466Z",
     "shell.execute_reply.started": "2021-08-05T11:07:24.372426Z"
    },
    "papermill": {
     "duration": 0.073937,
     "end_time": "2021-08-05T11:14:39.564171",
     "exception": false,
     "start_time": "2021-08-05T11:14:39.490234",
     "status": "completed"
    },
    "tags": []
   },
   "outputs": [
    {
     "data": {
      "text/html": [
       "<div>\n",
       "<style scoped>\n",
       "    .dataframe tbody tr th:only-of-type {\n",
       "        vertical-align: middle;\n",
       "    }\n",
       "\n",
       "    .dataframe tbody tr th {\n",
       "        vertical-align: top;\n",
       "    }\n",
       "\n",
       "    .dataframe thead th {\n",
       "        text-align: right;\n",
       "    }\n",
       "</style>\n",
       "<table border=\"1\" class=\"dataframe\">\n",
       "  <thead>\n",
       "    <tr style=\"text-align: right;\">\n",
       "      <th></th>\n",
       "      <th>Survived</th>\n",
       "      <th>Pclass</th>\n",
       "      <th>Sex</th>\n",
       "      <th>SibSp</th>\n",
       "      <th>Parch</th>\n",
       "      <th>Embarked</th>\n",
       "    </tr>\n",
       "  </thead>\n",
       "  <tbody>\n",
       "    <tr>\n",
       "      <th>0</th>\n",
       "      <td>0</td>\n",
       "      <td>3</td>\n",
       "      <td>0</td>\n",
       "      <td>1</td>\n",
       "      <td>0</td>\n",
       "      <td>0</td>\n",
       "    </tr>\n",
       "    <tr>\n",
       "      <th>1</th>\n",
       "      <td>1</td>\n",
       "      <td>1</td>\n",
       "      <td>1</td>\n",
       "      <td>1</td>\n",
       "      <td>0</td>\n",
       "      <td>1</td>\n",
       "    </tr>\n",
       "    <tr>\n",
       "      <th>2</th>\n",
       "      <td>1</td>\n",
       "      <td>3</td>\n",
       "      <td>1</td>\n",
       "      <td>0</td>\n",
       "      <td>0</td>\n",
       "      <td>0</td>\n",
       "    </tr>\n",
       "    <tr>\n",
       "      <th>3</th>\n",
       "      <td>1</td>\n",
       "      <td>1</td>\n",
       "      <td>1</td>\n",
       "      <td>1</td>\n",
       "      <td>0</td>\n",
       "      <td>0</td>\n",
       "    </tr>\n",
       "    <tr>\n",
       "      <th>4</th>\n",
       "      <td>0</td>\n",
       "      <td>3</td>\n",
       "      <td>0</td>\n",
       "      <td>0</td>\n",
       "      <td>0</td>\n",
       "      <td>0</td>\n",
       "    </tr>\n",
       "  </tbody>\n",
       "</table>\n",
       "</div>"
      ],
      "text/plain": [
       "   Survived  Pclass  Sex  SibSp  Parch  Embarked\n",
       "0         0       3    0      1      0         0\n",
       "1         1       1    1      1      0         1\n",
       "2         1       3    1      0      0         0\n",
       "3         1       1    1      1      0         0\n",
       "4         0       3    0      0      0         0"
      ]
     },
     "execution_count": 34,
     "metadata": {},
     "output_type": "execute_result"
    }
   ],
   "source": [
    "train_df.head(5)"
   ]
  },
  {
   "cell_type": "code",
   "execution_count": 35,
   "metadata": {
    "execution": {
     "iopub.execute_input": "2021-08-05T11:14:39.693983Z",
     "iopub.status.busy": "2021-08-05T11:14:39.693308Z",
     "iopub.status.idle": "2021-08-05T11:14:39.697471Z",
     "shell.execute_reply": "2021-08-05T11:14:39.696963Z",
     "shell.execute_reply.started": "2021-08-05T11:07:24.390925Z"
    },
    "papermill": {
     "duration": 0.073042,
     "end_time": "2021-08-05T11:14:39.697621",
     "exception": false,
     "start_time": "2021-08-05T11:14:39.624579",
     "status": "completed"
    },
    "tags": []
   },
   "outputs": [
    {
     "data": {
      "text/html": [
       "<div>\n",
       "<style scoped>\n",
       "    .dataframe tbody tr th:only-of-type {\n",
       "        vertical-align: middle;\n",
       "    }\n",
       "\n",
       "    .dataframe tbody tr th {\n",
       "        vertical-align: top;\n",
       "    }\n",
       "\n",
       "    .dataframe thead th {\n",
       "        text-align: right;\n",
       "    }\n",
       "</style>\n",
       "<table border=\"1\" class=\"dataframe\">\n",
       "  <thead>\n",
       "    <tr style=\"text-align: right;\">\n",
       "      <th></th>\n",
       "      <th>Pclass</th>\n",
       "      <th>Sex</th>\n",
       "      <th>SibSp</th>\n",
       "      <th>Parch</th>\n",
       "      <th>Embarked</th>\n",
       "    </tr>\n",
       "  </thead>\n",
       "  <tbody>\n",
       "    <tr>\n",
       "      <th>0</th>\n",
       "      <td>3</td>\n",
       "      <td>0</td>\n",
       "      <td>0</td>\n",
       "      <td>0</td>\n",
       "      <td>2</td>\n",
       "    </tr>\n",
       "    <tr>\n",
       "      <th>1</th>\n",
       "      <td>3</td>\n",
       "      <td>1</td>\n",
       "      <td>1</td>\n",
       "      <td>0</td>\n",
       "      <td>0</td>\n",
       "    </tr>\n",
       "    <tr>\n",
       "      <th>2</th>\n",
       "      <td>2</td>\n",
       "      <td>0</td>\n",
       "      <td>0</td>\n",
       "      <td>0</td>\n",
       "      <td>2</td>\n",
       "    </tr>\n",
       "    <tr>\n",
       "      <th>3</th>\n",
       "      <td>3</td>\n",
       "      <td>0</td>\n",
       "      <td>0</td>\n",
       "      <td>0</td>\n",
       "      <td>0</td>\n",
       "    </tr>\n",
       "    <tr>\n",
       "      <th>4</th>\n",
       "      <td>3</td>\n",
       "      <td>1</td>\n",
       "      <td>1</td>\n",
       "      <td>1</td>\n",
       "      <td>0</td>\n",
       "    </tr>\n",
       "  </tbody>\n",
       "</table>\n",
       "</div>"
      ],
      "text/plain": [
       "   Pclass  Sex  SibSp  Parch  Embarked\n",
       "0       3    0      0      0         2\n",
       "1       3    1      1      0         0\n",
       "2       2    0      0      0         2\n",
       "3       3    0      0      0         0\n",
       "4       3    1      1      1         0"
      ]
     },
     "execution_count": 35,
     "metadata": {},
     "output_type": "execute_result"
    }
   ],
   "source": [
    "test_df.head(5)"
   ]
  },
  {
   "cell_type": "code",
   "execution_count": 36,
   "metadata": {
    "execution": {
     "iopub.execute_input": "2021-08-05T11:14:39.821122Z",
     "iopub.status.busy": "2021-08-05T11:14:39.820115Z",
     "iopub.status.idle": "2021-08-05T11:14:39.823317Z",
     "shell.execute_reply": "2021-08-05T11:14:39.822765Z",
     "shell.execute_reply.started": "2021-08-05T11:07:24.404966Z"
    },
    "papermill": {
     "duration": 0.066399,
     "end_time": "2021-08-05T11:14:39.823470",
     "exception": false,
     "start_time": "2021-08-05T11:14:39.757071",
     "status": "completed"
    },
    "tags": []
   },
   "outputs": [],
   "source": [
    "Y= train_df.Survived"
   ]
  },
  {
   "cell_type": "code",
   "execution_count": 37,
   "metadata": {
    "execution": {
     "iopub.execute_input": "2021-08-05T11:14:39.949173Z",
     "iopub.status.busy": "2021-08-05T11:14:39.948199Z",
     "iopub.status.idle": "2021-08-05T11:14:39.951761Z",
     "shell.execute_reply": "2021-08-05T11:14:39.951092Z",
     "shell.execute_reply.started": "2021-08-05T11:07:24.410773Z"
    },
    "papermill": {
     "duration": 0.068955,
     "end_time": "2021-08-05T11:14:39.951935",
     "exception": false,
     "start_time": "2021-08-05T11:14:39.882980",
     "status": "completed"
    },
    "tags": []
   },
   "outputs": [],
   "source": [
    "X=train_df.drop(['Survived'] , axis =1 )"
   ]
  },
  {
   "cell_type": "code",
   "execution_count": 38,
   "metadata": {
    "execution": {
     "iopub.execute_input": "2021-08-05T11:14:40.075952Z",
     "iopub.status.busy": "2021-08-05T11:14:40.075293Z",
     "iopub.status.idle": "2021-08-05T11:14:40.098892Z",
     "shell.execute_reply": "2021-08-05T11:14:40.098219Z",
     "shell.execute_reply.started": "2021-08-05T11:07:24.425194Z"
    },
    "papermill": {
     "duration": 0.088517,
     "end_time": "2021-08-05T11:14:40.099063",
     "exception": false,
     "start_time": "2021-08-05T11:14:40.010546",
     "status": "completed"
    },
    "tags": []
   },
   "outputs": [],
   "source": [
    "from sklearn.model_selection import train_test_split\n",
    "X_train ,X_test, y_train, y_test = train_test_split(X,Y, test_size = 0.3)"
   ]
  },
  {
   "cell_type": "code",
   "execution_count": 39,
   "metadata": {
    "execution": {
     "iopub.execute_input": "2021-08-05T11:14:40.223494Z",
     "iopub.status.busy": "2021-08-05T11:14:40.222647Z",
     "iopub.status.idle": "2021-08-05T11:14:40.450001Z",
     "shell.execute_reply": "2021-08-05T11:14:40.448807Z",
     "shell.execute_reply.started": "2021-08-05T11:08:01.310806Z"
    },
    "papermill": {
     "duration": 0.29166,
     "end_time": "2021-08-05T11:14:40.450168",
     "exception": false,
     "start_time": "2021-08-05T11:14:40.158508",
     "status": "completed"
    },
    "tags": []
   },
   "outputs": [],
   "source": [
    "from sklearn import tree\n",
    "\n",
    "dt = tree.DecisionTreeClassifier(criterion = 'gini',random_state = 0)"
   ]
  },
  {
   "cell_type": "code",
   "execution_count": 40,
   "metadata": {
    "execution": {
     "iopub.execute_input": "2021-08-05T11:14:40.583469Z",
     "iopub.status.busy": "2021-08-05T11:14:40.582670Z",
     "iopub.status.idle": "2021-08-05T11:14:40.591161Z",
     "shell.execute_reply": "2021-08-05T11:14:40.590468Z",
     "shell.execute_reply.started": "2021-08-05T11:08:03.985786Z"
    },
    "papermill": {
     "duration": 0.077612,
     "end_time": "2021-08-05T11:14:40.591338",
     "exception": false,
     "start_time": "2021-08-05T11:14:40.513726",
     "status": "completed"
    },
    "tags": []
   },
   "outputs": [
    {
     "data": {
      "text/plain": [
       "DecisionTreeClassifier(random_state=0)"
      ]
     },
     "execution_count": 40,
     "metadata": {},
     "output_type": "execute_result"
    }
   ],
   "source": [
    "dt.fit(X_train,y_train)"
   ]
  },
  {
   "cell_type": "code",
   "execution_count": 41,
   "metadata": {
    "execution": {
     "iopub.execute_input": "2021-08-05T11:14:40.722347Z",
     "iopub.status.busy": "2021-08-05T11:14:40.721186Z",
     "iopub.status.idle": "2021-08-05T11:14:40.727492Z",
     "shell.execute_reply": "2021-08-05T11:14:40.726952Z",
     "shell.execute_reply.started": "2021-08-05T11:08:05.305797Z"
    },
    "papermill": {
     "duration": 0.074503,
     "end_time": "2021-08-05T11:14:40.727638",
     "exception": false,
     "start_time": "2021-08-05T11:14:40.653135",
     "status": "completed"
    },
    "tags": []
   },
   "outputs": [
    {
     "data": {
      "text/plain": [
       "0.841091492776886"
      ]
     },
     "execution_count": 41,
     "metadata": {},
     "output_type": "execute_result"
    }
   ],
   "source": [
    "dt.score(X_train, y_train)"
   ]
  },
  {
   "cell_type": "code",
   "execution_count": 42,
   "metadata": {
    "execution": {
     "iopub.execute_input": "2021-08-05T11:14:40.875697Z",
     "iopub.status.busy": "2021-08-05T11:14:40.874612Z",
     "iopub.status.idle": "2021-08-05T11:14:40.880462Z",
     "shell.execute_reply": "2021-08-05T11:14:40.879881Z",
     "shell.execute_reply.started": "2021-08-05T11:08:07.510713Z"
    },
    "papermill": {
     "duration": 0.093557,
     "end_time": "2021-08-05T11:14:40.880634",
     "exception": false,
     "start_time": "2021-08-05T11:14:40.787077",
     "status": "completed"
    },
    "tags": []
   },
   "outputs": [
    {
     "data": {
      "text/plain": [
       "0.7798507462686567"
      ]
     },
     "execution_count": 42,
     "metadata": {},
     "output_type": "execute_result"
    }
   ],
   "source": [
    "dt.score(X_test, y_test)"
   ]
  },
  {
   "cell_type": "code",
   "execution_count": 43,
   "metadata": {
    "execution": {
     "iopub.execute_input": "2021-08-05T11:14:41.027819Z",
     "iopub.status.busy": "2021-08-05T11:14:41.026760Z",
     "iopub.status.idle": "2021-08-05T11:14:41.029659Z",
     "shell.execute_reply": "2021-08-05T11:14:41.029128Z",
     "shell.execute_reply.started": "2021-08-05T11:08:10.231017Z"
    },
    "papermill": {
     "duration": 0.081088,
     "end_time": "2021-08-05T11:14:41.029805",
     "exception": false,
     "start_time": "2021-08-05T11:14:40.948717",
     "status": "completed"
    },
    "tags": []
   },
   "outputs": [],
   "source": [
    "y_pred = dt.predict(X_test)"
   ]
  },
  {
   "cell_type": "code",
   "execution_count": 44,
   "metadata": {
    "execution": {
     "iopub.execute_input": "2021-08-05T11:14:41.179967Z",
     "iopub.status.busy": "2021-08-05T11:14:41.178901Z",
     "iopub.status.idle": "2021-08-05T11:14:41.188335Z",
     "shell.execute_reply": "2021-08-05T11:14:41.188814Z",
     "shell.execute_reply.started": "2021-08-05T11:08:13.550855Z"
    },
    "papermill": {
     "duration": 0.09317,
     "end_time": "2021-08-05T11:14:41.189060",
     "exception": false,
     "start_time": "2021-08-05T11:14:41.095890",
     "status": "completed"
    },
    "tags": []
   },
   "outputs": [
    {
     "name": "stdout",
     "output_type": "stream",
     "text": [
      "              precision    recall  f1-score   support\n",
      "\n",
      "           0       0.77      0.93      0.84       171\n",
      "           1       0.81      0.52      0.63        97\n",
      "\n",
      "    accuracy                           0.78       268\n",
      "   macro avg       0.79      0.72      0.74       268\n",
      "weighted avg       0.78      0.78      0.77       268\n",
      "\n"
     ]
    }
   ],
   "source": [
    "print(classification_report(y_test, y_pred))"
   ]
  },
  {
   "cell_type": "code",
   "execution_count": 45,
   "metadata": {
    "execution": {
     "iopub.execute_input": "2021-08-05T11:14:41.316169Z",
     "iopub.status.busy": "2021-08-05T11:14:41.315127Z",
     "iopub.status.idle": "2021-08-05T11:14:41.318637Z",
     "shell.execute_reply": "2021-08-05T11:14:41.318121Z",
     "shell.execute_reply.started": "2021-08-05T11:12:26.116148Z"
    },
    "papermill": {
     "duration": 0.068334,
     "end_time": "2021-08-05T11:14:41.318793",
     "exception": false,
     "start_time": "2021-08-05T11:14:41.250459",
     "status": "completed"
    },
    "tags": []
   },
   "outputs": [],
   "source": [
    "from sklearn.linear_model import LogisticRegression\n",
    "lr = LogisticRegression()"
   ]
  },
  {
   "cell_type": "code",
   "execution_count": 46,
   "metadata": {
    "execution": {
     "iopub.execute_input": "2021-08-05T11:14:41.451980Z",
     "iopub.status.busy": "2021-08-05T11:14:41.450888Z",
     "iopub.status.idle": "2021-08-05T11:14:41.467476Z",
     "shell.execute_reply": "2021-08-05T11:14:41.466818Z",
     "shell.execute_reply.started": "2021-08-05T11:12:26.670994Z"
    },
    "papermill": {
     "duration": 0.088519,
     "end_time": "2021-08-05T11:14:41.467644",
     "exception": false,
     "start_time": "2021-08-05T11:14:41.379125",
     "status": "completed"
    },
    "tags": []
   },
   "outputs": [
    {
     "data": {
      "text/plain": [
       "LogisticRegression()"
      ]
     },
     "execution_count": 46,
     "metadata": {},
     "output_type": "execute_result"
    }
   ],
   "source": [
    "lr.fit(X_train, y_train)"
   ]
  },
  {
   "cell_type": "code",
   "execution_count": 47,
   "metadata": {
    "execution": {
     "iopub.execute_input": "2021-08-05T11:14:41.604308Z",
     "iopub.status.busy": "2021-08-05T11:14:41.603412Z",
     "iopub.status.idle": "2021-08-05T11:14:41.608950Z",
     "shell.execute_reply": "2021-08-05T11:14:41.608275Z",
     "shell.execute_reply.started": "2021-08-05T11:12:27.200921Z"
    },
    "papermill": {
     "duration": 0.075792,
     "end_time": "2021-08-05T11:14:41.609100",
     "exception": false,
     "start_time": "2021-08-05T11:14:41.533308",
     "status": "completed"
    },
    "tags": []
   },
   "outputs": [
    {
     "data": {
      "text/plain": [
       "0.7929373996789727"
      ]
     },
     "execution_count": 47,
     "metadata": {},
     "output_type": "execute_result"
    }
   ],
   "source": [
    "lr.score(X_train, y_train)"
   ]
  },
  {
   "cell_type": "code",
   "execution_count": 48,
   "metadata": {
    "execution": {
     "iopub.execute_input": "2021-08-05T11:14:41.739187Z",
     "iopub.status.busy": "2021-08-05T11:14:41.738265Z",
     "iopub.status.idle": "2021-08-05T11:14:41.741822Z",
     "shell.execute_reply": "2021-08-05T11:14:41.742353Z",
     "shell.execute_reply.started": "2021-08-05T11:12:27.855765Z"
    },
    "papermill": {
     "duration": 0.072478,
     "end_time": "2021-08-05T11:14:41.742530",
     "exception": false,
     "start_time": "2021-08-05T11:14:41.670052",
     "status": "completed"
    },
    "tags": []
   },
   "outputs": [
    {
     "data": {
      "text/plain": [
       "0.8208955223880597"
      ]
     },
     "execution_count": 48,
     "metadata": {},
     "output_type": "execute_result"
    }
   ],
   "source": [
    "lr.score(X_test, y_test)"
   ]
  },
  {
   "cell_type": "code",
   "execution_count": 49,
   "metadata": {
    "execution": {
     "iopub.execute_input": "2021-08-05T11:14:41.873371Z",
     "iopub.status.busy": "2021-08-05T11:14:41.872703Z",
     "iopub.status.idle": "2021-08-05T11:14:41.878118Z",
     "shell.execute_reply": "2021-08-05T11:14:41.877554Z",
     "shell.execute_reply.started": "2021-08-05T11:12:28.991034Z"
    },
    "papermill": {
     "duration": 0.074557,
     "end_time": "2021-08-05T11:14:41.878269",
     "exception": false,
     "start_time": "2021-08-05T11:14:41.803712",
     "status": "completed"
    },
    "tags": []
   },
   "outputs": [],
   "source": [
    "y_pred_lr = lr.predict(X_test)"
   ]
  },
  {
   "cell_type": "code",
   "execution_count": 50,
   "metadata": {
    "execution": {
     "iopub.execute_input": "2021-08-05T11:14:42.007343Z",
     "iopub.status.busy": "2021-08-05T11:14:42.006642Z",
     "iopub.status.idle": "2021-08-05T11:14:42.015424Z",
     "shell.execute_reply": "2021-08-05T11:14:42.016032Z",
     "shell.execute_reply.started": "2021-08-05T11:12:29.875963Z"
    },
    "papermill": {
     "duration": 0.07586,
     "end_time": "2021-08-05T11:14:42.016219",
     "exception": false,
     "start_time": "2021-08-05T11:14:41.940359",
     "status": "completed"
    },
    "tags": []
   },
   "outputs": [
    {
     "name": "stdout",
     "output_type": "stream",
     "text": [
      "              precision    recall  f1-score   support\n",
      "\n",
      "           0       0.82      0.92      0.87       171\n",
      "           1       0.82      0.65      0.72        97\n",
      "\n",
      "    accuracy                           0.82       268\n",
      "   macro avg       0.82      0.78      0.80       268\n",
      "weighted avg       0.82      0.82      0.82       268\n",
      "\n"
     ]
    }
   ],
   "source": [
    "print(classification_report(y_test, y_pred_lr))"
   ]
  },
  {
   "cell_type": "code",
   "execution_count": 51,
   "metadata": {
    "execution": {
     "iopub.execute_input": "2021-08-05T11:14:42.153066Z",
     "iopub.status.busy": "2021-08-05T11:14:42.152186Z",
     "iopub.status.idle": "2021-08-05T11:14:42.185905Z",
     "shell.execute_reply": "2021-08-05T11:14:42.185177Z",
     "shell.execute_reply.started": "2021-08-05T11:07:24.611261Z"
    },
    "papermill": {
     "duration": 0.104726,
     "end_time": "2021-08-05T11:14:42.186117",
     "exception": false,
     "start_time": "2021-08-05T11:14:42.081391",
     "status": "completed"
    },
    "tags": []
   },
   "outputs": [],
   "source": [
    "from sklearn.ensemble import RandomForestClassifier\n",
    "clf = RandomForestClassifier(max_depth=3, random_state=0)"
   ]
  },
  {
   "cell_type": "code",
   "execution_count": 52,
   "metadata": {
    "execution": {
     "iopub.execute_input": "2021-08-05T11:14:42.318649Z",
     "iopub.status.busy": "2021-08-05T11:14:42.318011Z",
     "iopub.status.idle": "2021-08-05T11:14:42.511969Z",
     "shell.execute_reply": "2021-08-05T11:14:42.511381Z",
     "shell.execute_reply.started": "2021-08-05T11:07:24.648606Z"
    },
    "papermill": {
     "duration": 0.26197,
     "end_time": "2021-08-05T11:14:42.512120",
     "exception": false,
     "start_time": "2021-08-05T11:14:42.250150",
     "status": "completed"
    },
    "tags": []
   },
   "outputs": [
    {
     "data": {
      "text/plain": [
       "RandomForestClassifier(max_depth=3, random_state=0)"
      ]
     },
     "execution_count": 52,
     "metadata": {},
     "output_type": "execute_result"
    }
   ],
   "source": [
    "clf.fit(X_train, y_train)"
   ]
  },
  {
   "cell_type": "code",
   "execution_count": 53,
   "metadata": {
    "execution": {
     "iopub.execute_input": "2021-08-05T11:14:42.645085Z",
     "iopub.status.busy": "2021-08-05T11:14:42.644432Z",
     "iopub.status.idle": "2021-08-05T11:14:42.664846Z",
     "shell.execute_reply": "2021-08-05T11:14:42.664269Z",
     "shell.execute_reply.started": "2021-08-05T11:07:24.846198Z"
    },
    "papermill": {
     "duration": 0.090671,
     "end_time": "2021-08-05T11:14:42.665015",
     "exception": false,
     "start_time": "2021-08-05T11:14:42.574344",
     "status": "completed"
    },
    "tags": []
   },
   "outputs": [
    {
     "data": {
      "text/plain": [
       "0.8105939004815409"
      ]
     },
     "execution_count": 53,
     "metadata": {},
     "output_type": "execute_result"
    }
   ],
   "source": [
    "clf.score(X_train , y_train)"
   ]
  },
  {
   "cell_type": "code",
   "execution_count": 54,
   "metadata": {
    "execution": {
     "iopub.execute_input": "2021-08-05T11:14:42.799279Z",
     "iopub.status.busy": "2021-08-05T11:14:42.795790Z",
     "iopub.status.idle": "2021-08-05T11:14:42.814531Z",
     "shell.execute_reply": "2021-08-05T11:14:42.813849Z",
     "shell.execute_reply.started": "2021-08-05T11:07:24.871502Z"
    },
    "papermill": {
     "duration": 0.087634,
     "end_time": "2021-08-05T11:14:42.814682",
     "exception": false,
     "start_time": "2021-08-05T11:14:42.727048",
     "status": "completed"
    },
    "tags": []
   },
   "outputs": [
    {
     "data": {
      "text/plain": [
       "0.8134328358208955"
      ]
     },
     "execution_count": 54,
     "metadata": {},
     "output_type": "execute_result"
    }
   ],
   "source": [
    "clf.score(X_test, y_test)"
   ]
  },
  {
   "cell_type": "code",
   "execution_count": 55,
   "metadata": {
    "execution": {
     "iopub.execute_input": "2021-08-05T11:14:42.950725Z",
     "iopub.status.busy": "2021-08-05T11:14:42.949970Z",
     "iopub.status.idle": "2021-08-05T11:14:42.965569Z",
     "shell.execute_reply": "2021-08-05T11:14:42.964875Z",
     "shell.execute_reply.started": "2021-08-05T11:07:24.894688Z"
    },
    "papermill": {
     "duration": 0.088526,
     "end_time": "2021-08-05T11:14:42.965721",
     "exception": false,
     "start_time": "2021-08-05T11:14:42.877195",
     "status": "completed"
    },
    "tags": []
   },
   "outputs": [],
   "source": [
    "y_pred_clf = clf.predict(X_test)"
   ]
  },
  {
   "cell_type": "code",
   "execution_count": 56,
   "metadata": {
    "execution": {
     "iopub.execute_input": "2021-08-05T11:14:43.099795Z",
     "iopub.status.busy": "2021-08-05T11:14:43.098869Z",
     "iopub.status.idle": "2021-08-05T11:14:43.108590Z",
     "shell.execute_reply": "2021-08-05T11:14:43.109115Z",
     "shell.execute_reply.started": "2021-08-05T11:07:24.917506Z"
    },
    "papermill": {
     "duration": 0.079013,
     "end_time": "2021-08-05T11:14:43.109363",
     "exception": false,
     "start_time": "2021-08-05T11:14:43.030350",
     "status": "completed"
    },
    "tags": []
   },
   "outputs": [
    {
     "name": "stdout",
     "output_type": "stream",
     "text": [
      "              precision    recall  f1-score   support\n",
      "\n",
      "           0       0.79      0.97      0.87       171\n",
      "           1       0.91      0.54      0.68        97\n",
      "\n",
      "    accuracy                           0.81       268\n",
      "   macro avg       0.85      0.75      0.77       268\n",
      "weighted avg       0.83      0.81      0.80       268\n",
      "\n"
     ]
    }
   ],
   "source": [
    "print(classification_report(y_test, y_pred_clf))"
   ]
  },
  {
   "cell_type": "code",
   "execution_count": 57,
   "metadata": {
    "execution": {
     "iopub.execute_input": "2021-08-05T11:14:43.243048Z",
     "iopub.status.busy": "2021-08-05T11:14:43.242080Z",
     "iopub.status.idle": "2021-08-05T11:14:43.245493Z",
     "shell.execute_reply": "2021-08-05T11:14:43.244966Z",
     "shell.execute_reply.started": "2021-08-05T11:07:24.931459Z"
    },
    "papermill": {
     "duration": 0.071385,
     "end_time": "2021-08-05T11:14:43.245639",
     "exception": false,
     "start_time": "2021-08-05T11:14:43.174254",
     "status": "completed"
    },
    "tags": []
   },
   "outputs": [],
   "source": [
    "from sklearn import svm\n",
    "sv = svm.SVC(kernel='poly',gamma='auto')"
   ]
  },
  {
   "cell_type": "code",
   "execution_count": 58,
   "metadata": {
    "execution": {
     "iopub.execute_input": "2021-08-05T11:14:43.378339Z",
     "iopub.status.busy": "2021-08-05T11:14:43.377570Z",
     "iopub.status.idle": "2021-08-05T11:14:43.404886Z",
     "shell.execute_reply": "2021-08-05T11:14:43.404186Z",
     "shell.execute_reply.started": "2021-08-05T11:07:24.937879Z"
    },
    "papermill": {
     "duration": 0.096774,
     "end_time": "2021-08-05T11:14:43.405074",
     "exception": false,
     "start_time": "2021-08-05T11:14:43.308300",
     "status": "completed"
    },
    "tags": []
   },
   "outputs": [
    {
     "data": {
      "text/plain": [
       "SVC(gamma='auto', kernel='poly')"
      ]
     },
     "execution_count": 58,
     "metadata": {},
     "output_type": "execute_result"
    }
   ],
   "source": [
    "sv.fit(X_train, y_train)"
   ]
  },
  {
   "cell_type": "code",
   "execution_count": 59,
   "metadata": {
    "execution": {
     "iopub.execute_input": "2021-08-05T11:14:43.545683Z",
     "iopub.status.busy": "2021-08-05T11:14:43.544753Z",
     "iopub.status.idle": "2021-08-05T11:14:43.558610Z",
     "shell.execute_reply": "2021-08-05T11:14:43.558001Z",
     "shell.execute_reply.started": "2021-08-05T11:07:24.976961Z"
    },
    "papermill": {
     "duration": 0.090182,
     "end_time": "2021-08-05T11:14:43.558762",
     "exception": false,
     "start_time": "2021-08-05T11:14:43.468580",
     "status": "completed"
    },
    "tags": []
   },
   "outputs": [
    {
     "data": {
      "text/plain": [
       "0.8041733547351525"
      ]
     },
     "execution_count": 59,
     "metadata": {},
     "output_type": "execute_result"
    }
   ],
   "source": [
    "sv.score(X_train, y_train)"
   ]
  },
  {
   "cell_type": "code",
   "execution_count": 60,
   "metadata": {
    "execution": {
     "iopub.execute_input": "2021-08-05T11:14:43.697000Z",
     "iopub.status.busy": "2021-08-05T11:14:43.696287Z",
     "iopub.status.idle": "2021-08-05T11:14:43.704373Z",
     "shell.execute_reply": "2021-08-05T11:14:43.704851Z",
     "shell.execute_reply.started": "2021-08-05T11:07:24.996159Z"
    },
    "papermill": {
     "duration": 0.079351,
     "end_time": "2021-08-05T11:14:43.705096",
     "exception": false,
     "start_time": "2021-08-05T11:14:43.625745",
     "status": "completed"
    },
    "tags": []
   },
   "outputs": [
    {
     "data": {
      "text/plain": [
       "0.8283582089552238"
      ]
     },
     "execution_count": 60,
     "metadata": {},
     "output_type": "execute_result"
    }
   ],
   "source": [
    "sv.score(X_test, y_test)"
   ]
  },
  {
   "cell_type": "code",
   "execution_count": 61,
   "metadata": {
    "execution": {
     "iopub.execute_input": "2021-08-05T11:14:43.843170Z",
     "iopub.status.busy": "2021-08-05T11:14:43.842495Z",
     "iopub.status.idle": "2021-08-05T11:14:43.848500Z",
     "shell.execute_reply": "2021-08-05T11:14:43.847915Z",
     "shell.execute_reply.started": "2021-08-05T11:07:25.011264Z"
    },
    "papermill": {
     "duration": 0.079083,
     "end_time": "2021-08-05T11:14:43.848649",
     "exception": false,
     "start_time": "2021-08-05T11:14:43.769566",
     "status": "completed"
    },
    "tags": []
   },
   "outputs": [],
   "source": [
    "y_pred_svm = sv.predict(X_test)"
   ]
  },
  {
   "cell_type": "code",
   "execution_count": 62,
   "metadata": {
    "execution": {
     "iopub.execute_input": "2021-08-05T11:14:43.991447Z",
     "iopub.status.busy": "2021-08-05T11:14:43.988330Z",
     "iopub.status.idle": "2021-08-05T11:14:43.998589Z",
     "shell.execute_reply": "2021-08-05T11:14:43.997936Z",
     "shell.execute_reply.started": "2021-08-05T11:07:25.022242Z"
    },
    "papermill": {
     "duration": 0.081486,
     "end_time": "2021-08-05T11:14:43.998735",
     "exception": false,
     "start_time": "2021-08-05T11:14:43.917249",
     "status": "completed"
    },
    "tags": []
   },
   "outputs": [
    {
     "name": "stdout",
     "output_type": "stream",
     "text": [
      "              precision    recall  f1-score   support\n",
      "\n",
      "           0       0.82      0.94      0.87       171\n",
      "           1       0.85      0.64      0.73        97\n",
      "\n",
      "    accuracy                           0.83       268\n",
      "   macro avg       0.83      0.79      0.80       268\n",
      "weighted avg       0.83      0.83      0.82       268\n",
      "\n"
     ]
    }
   ],
   "source": [
    "print(classification_report(y_test, y_pred_svm))"
   ]
  },
  {
   "cell_type": "code",
   "execution_count": null,
   "metadata": {
    "papermill": {
     "duration": 0.066188,
     "end_time": "2021-08-05T11:14:44.132344",
     "exception": false,
     "start_time": "2021-08-05T11:14:44.066156",
     "status": "completed"
    },
    "tags": []
   },
   "outputs": [],
   "source": []
  }
 ],
 "metadata": {
  "kernelspec": {
   "display_name": "Python 3",
   "language": "python",
   "name": "python3"
  },
  "language_info": {
   "codemirror_mode": {
    "name": "ipython",
    "version": 3
   },
   "file_extension": ".py",
   "mimetype": "text/x-python",
   "name": "python",
   "nbconvert_exporter": "python",
   "pygments_lexer": "ipython3",
   "version": "3.7.9"
  },
  "papermill": {
   "default_parameters": {},
   "duration": 18.911829,
   "end_time": "2021-08-05T11:14:44.909208",
   "environment_variables": {},
   "exception": null,
   "input_path": "__notebook__.ipynb",
   "output_path": "__notebook__.ipynb",
   "parameters": {},
   "start_time": "2021-08-05T11:14:25.997379",
   "version": "2.2.2"
  }
 },
 "nbformat": 4,
 "nbformat_minor": 4
}
